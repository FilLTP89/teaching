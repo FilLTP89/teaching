{
 "cells": [
  {
   "cell_type": "markdown",
   "metadata": {
    "colab_type": "text",
    "id": "view-in-github"
   },
   "source": [
    "<a href=\"https://colab.research.google.com/github/FilLTP89/teaching/blob/master/MIFO_ML.ipynb\" target=\"_parent\"><img src=\"https://colab.research.google.com/assets/colab-badge.svg\" alt=\"Open In Colab\"/></a>"
   ]
  },
  {
   "cell_type": "markdown",
   "metadata": {
    "colab_type": "text",
    "id": "r9jelCyirJeo"
   },
   "source": [
    "\n",
    "\n",
    "`python3` offers a wide range of packages to perform ML and DL tasks:\n",
    "+ [`numpy`](https://numpy.org/)\n",
    "+ [`pandas`, Python Data Analysis Library](https://pandas.pydata.org/)\n",
    "+ [`scikit-learn`, Machine Learning in Python](https://scikit-learn.org/stable/index.html)\n",
    "\n",
    "In  the followig, we are going to exploit those tools to solve create non-parametric models to predict some quantities of interest. Let's upload those packages:"
   ]
  },
  {
   "cell_type": "code",
   "execution_count": 1,
   "metadata": {
    "colab": {},
    "colab_type": "code",
    "id": "0zM9OF9005GC"
   },
   "outputs": [],
   "source": [
    "from IPython.display import Image\n",
    "\n",
    "import numpy as np\n",
    "import pandas as pd\n",
    "import sklearn as skl\n",
    "\n",
    "import matplotlib.pyplot as plt\n",
    "from matplotlib import cm \n",
    "from mpl_toolkits.mplot3d import axes3d, Axes3D\n",
    "%matplotlib inline"
   ]
  },
  {
   "cell_type": "markdown",
   "metadata": {
    "colab_type": "text",
    "id": "sRbjh8FDlrwx"
   },
   "source": [
    "Before getting started, a few general hints:\n",
    "\n",
    "1. `lambda` constructors: they are used in `python` to define anonymous functions ([see this link](https://realpython.com/python-lambda/))\n",
    "\n",
    "\n"
   ]
  },
  {
   "cell_type": "code",
   "execution_count": null,
   "metadata": {
    "colab": {
     "base_uri": "https://localhost:8080/",
     "height": 35
    },
    "colab_type": "code",
    "id": "ZCYW6lnX0rRV",
    "outputId": "f8ed433d-25f1-4d48-fe59-d2dc8fccb377"
   },
   "outputs": [],
   "source": [
    "arr = np.array([1.5, 2.8, 3.1])\n",
    "scale = lambda x: x * 3 \n",
    "scale(arr)"
   ]
  },
  {
   "cell_type": "markdown",
   "metadata": {
    "colab_type": "text",
    "id": "tlwVHKC4QCgC"
   },
   "source": [
    "2. Handle `pandas` dataframe"
   ]
  },
  {
   "cell_type": "code",
   "execution_count": 2,
   "metadata": {
    "colab": {
     "base_uri": "https://localhost:8080/",
     "height": 917
    },
    "colab_type": "code",
    "id": "FPA9JSHJQUdn",
    "outputId": "3f76a8db-1420-4caf-fd3b-cb013487324e"
   },
   "outputs": [
    {
     "data": {
      "text/html": [
       "<img src=\"https://www.tutorialspoint.com/python_pandas/images/structure_table.jpg\" width=\"1000\"/>"
      ],
      "text/plain": [
       "<IPython.core.display.Image object>"
      ]
     },
     "execution_count": 2,
     "metadata": {},
     "output_type": "execute_result"
    }
   ],
   "source": [
    "Image(url=\"https://www.tutorialspoint.com/python_pandas/images/structure_table.jpg\",width=1000)"
   ]
  },
  {
   "cell_type": "code",
   "execution_count": null,
   "metadata": {
    "colab": {
     "base_uri": "https://localhost:8080/",
     "height": 69
    },
    "colab_type": "code",
    "id": "ta5_ta5iQefI",
    "outputId": "c1dc3692-9ca4-4b81-eb11-ec08ab21458e"
   },
   "outputs": [],
   "source": [
    "# Empty dataframe\n",
    "df = pd.DataFrame()\n",
    "print(df)"
   ]
  },
  {
   "cell_type": "code",
   "execution_count": null,
   "metadata": {
    "colab": {
     "base_uri": "https://localhost:8080/",
     "height": 121
    },
    "colab_type": "code",
    "id": "Zseq-qWdQgEJ",
    "outputId": "18d6e699-e139-4178-fcfc-61ac15174de3"
   },
   "outputs": [],
   "source": [
    "# Basic database\n",
    "data = [1,2,3,4,5]\n",
    "df = pd.DataFrame(data)\n",
    "print(df)"
   ]
  },
  {
   "cell_type": "code",
   "execution_count": null,
   "metadata": {
    "colab": {
     "base_uri": "https://localhost:8080/",
     "height": 87
    },
    "colab_type": "code",
    "id": "pfzt1ZFAQkyd",
    "outputId": "4c4173b7-6086-451d-b039-c34ee38a462f"
   },
   "outputs": [],
   "source": [
    "# Database with column labels\n",
    "data = [['Alex',10],['Bob',12],['Clarke',13]]\n",
    "df = pd.DataFrame(data,columns=['Name','Age'])\n",
    "print(df)"
   ]
  },
  {
   "cell_type": "code",
   "execution_count": null,
   "metadata": {
    "colab": {
     "base_uri": "https://localhost:8080/",
     "height": 87
    },
    "colab_type": "code",
    "id": "rnHJWEViQwCW",
    "outputId": "15510fc3-139d-426e-bac3-cdff07161289"
   },
   "outputs": [],
   "source": [
    "# Repartitioning data into dataframe\n",
    "data = [['Alex',10],['Bob',12],['Clarke',13]]\n",
    "df = pd.DataFrame(data,columns=['Name','Age'],dtype=float)\n",
    "print(df)"
   ]
  },
  {
   "cell_type": "code",
   "execution_count": null,
   "metadata": {
    "colab": {
     "base_uri": "https://localhost:8080/",
     "height": 104
    },
    "colab_type": "code",
    "id": "sI3X_pS6Qwjp",
    "outputId": "faae65a1-719e-4b2e-8d82-fa0974f0360a"
   },
   "outputs": [],
   "source": [
    "# Deal with indices\n",
    "data = {'Name':['Tom', 'Jack', 'Steve', 'Ricky'],'Age':[28,34,29,42]}\n",
    "df = pd.DataFrame(data, index=['rank1','rank2','rank3','rank4'])\n",
    "print(df)"
   ]
  },
  {
   "cell_type": "markdown",
   "metadata": {
    "colab_type": "text",
    "id": "eXEd3Abh3dxD"
   },
   "source": [
    "3. plot data: ([see this link](https://matplotlib.org/tutorials/introductory/usage.html#sphx-glr-tutorials-introductory-usage-py))\n",
    "\n"
   ]
  },
  {
   "cell_type": "code",
   "execution_count": null,
   "metadata": {
    "colab": {
     "base_uri": "https://localhost:8080/",
     "height": 295
    },
    "colab_type": "code",
    "id": "fjLz5ga_8crQ",
    "outputId": "e9de076c-bd1d-4d3f-aaf9-b9a6745bd0db"
   },
   "outputs": [],
   "source": [
    "x = np.linspace(0, 2, 100)\n",
    "plt.plot(x, x, label='linear')\n",
    "plt.plot(x, x**2, label='quadratic')\n",
    "plt.plot(x, x**3, label='cubic')\n",
    "plt.xlabel('x label')\n",
    "plt.ylabel('y label')\n",
    "plt.title(\"Simple Plot\")\n",
    "plt.legend()\n",
    "plt.show()"
   ]
  },
  {
   "cell_type": "markdown",
   "metadata": {
    "colab_type": "text",
    "id": "qpfy1_w9RWfq"
   },
   "source": [
    "## Principal Component Analysis\n",
    "\n",
    "The masonry building analyzed in this work is illustrated in [Figure](https://github.com/FilLTP89/teaching/blob/master/imgs/masonry_building.png). The behavior of this structure is simulated on the basis of non-linear dynamic FE analysis, all details of the model are well described in [1]. Using the FEM model, the inter-storey drifts of the building were calculated using 168 different earthquakes. Those inter-storey drift simulations represent the Engineering Demand parameters ED (matrix of $[1 \\times 168]$) and they were computed by inputting 168 stochastic realizations of earthquake time-histories, obtained combining 13 different Intensity Measures (IM) proxies (IM: matrix of $[13\\times168]$). \n",
    "\n",
    "The input databases are in file `mansonry_building_database.mat` [you can download here](https://github.com/FilLTP89/teaching/blob/master/datasets/mansonry_building_database.mat)."
   ]
  },
  {
   "cell_type": "markdown",
   "metadata": {},
   "source": [
    "### Parse the dabase\n",
    "\n",
    "In the following section, the database is parsed by loading it as a python dictionary:"
   ]
  },
  {
   "cell_type": "code",
   "execution_count": null,
   "metadata": {
    "colab": {},
    "colab_type": "code",
    "id": "03zUNXGvSmhg"
   },
   "outputs": [],
   "source": [
    "from scipy.io import loadmat\n",
    "link_to_mat_file=\"/content/mansonry_building_database.mat\"\n",
    "database=loadmat(link_to_mat_file)"
   ]
  },
  {
   "cell_type": "code",
   "execution_count": null,
   "metadata": {
    "colab": {
     "base_uri": "https://localhost:8080/",
     "height": 52
    },
    "colab_type": "code",
    "id": "dcElrxvwbIu9",
    "outputId": "f629515e-c587-4551-96a1-9e05121842c8"
   },
   "outputs": [],
   "source": [
    "IM=database['IM']\n",
    "ED=database['ED']\n",
    "print(IM.shape)\n",
    "print(ED.shape)"
   ]
  },
  {
   "cell_type": "markdown",
   "metadata": {},
   "source": [
    "1. Plot the ED and IM distributions in separate figures\n",
    "2. Can you recognize any known marginal probability distribution for each ED and IM?\n",
    "\n",
    "## Principal Component Analysis (PCA)\n",
    "\n",
    "Compute the Principal Component Analysis of IM database, by employing the `sklearn` `python` package `PCA`, as briefly shown below"
   ]
  },
  {
   "cell_type": "code",
   "execution_count": 9,
   "metadata": {
    "colab": {
     "base_uri": "https://localhost:8080/",
     "height": 681
    },
    "colab_type": "code",
    "id": "cGKFvCXfAga2",
    "outputId": "b6629e25-9b31-4af9-895f-a73a71b1b44d"
   },
   "outputs": [
    {
     "data": {
      "text/plain": [
       "Text(0.5, 1.0, 'PCA of IRIS dataset')"
      ]
     },
     "execution_count": 9,
     "metadata": {},
     "output_type": "execute_result"
    },
    {
     "data": {
      "image/png": "[encoded data removed]",
      "text/plain": [
       "<Figure size 432x288 with 1 Axes>"
      ]
     },
     "metadata": {
      "needs_background": "light"
     },
     "output_type": "display_data"
    },
    {
     "data": {
      "image/png": "[encoded data removed]",
      "text/plain": [
       "<Figure size 432x288 with 1 Axes>"
      ]
     },
     "metadata": {
      "needs_background": "light"
     },
     "output_type": "display_data"
    }
   ],
   "source": [
    "'''Model for PCA'''\n",
    "\n",
    "import numpy as np\n",
    "from sklearn.decomposition import PCA\n",
    "from sklearn.preprocessing import StandardScaler, MinMaxScaler\n",
    "from sklearn import datasets\n",
    "from sklearn.model_selection import train_test_split\n",
    "\n",
    "# Prepare dataset\n",
    "iris = datasets.load_iris()\n",
    "target_names = iris.target_names\n",
    "\n",
    "X, y = datasets.load_digits(return_X_y=True)\n",
    "# Scale data\n",
    "X = StandardScaler().fit_transform(X)\n",
    "X_train, X_test, y_train, y_test = train_test_split(X, y, test_size=.4, random_state=42)\n",
    "\n",
    "colors = ['navy', 'turquoise', 'darkorange']\n",
    "lw = 2\n",
    "\n",
    "# Plot dataset\n",
    "for color, i in zip(colors, [0, 1, 2]):\n",
    "    plt.scatter(X[:,i], X[:,i], color=color, alpha=.8, lw=lw,label=i)\n",
    "plt.legend(loc='best', shadow=False, scatterpoints=1)\n",
    "plt.title('IRIS dataset')\n",
    "\n",
    "# Design PCA with two components\n",
    "pca = PCA(n_components=2)\n",
    "\n",
    "# Fit to the data\n",
    "X_r = pca.fit(X).transform(X)\n",
    "\n",
    "# Plot\n",
    "plt.figure()\n",
    "\n",
    "\n",
    "for color, i, target_name in zip(colors, [0, 1, 2], target_names):\n",
    "    plt.scatter(X_r[y == i, 0], X_r[y == i, 1], color=color, alpha=.8, lw=lw,\n",
    "                label=target_name)\n",
    "plt.legend(loc='best', shadow=False, scatterpoints=1)\n",
    "plt.title('PCA of IRIS dataset')"
   ]
  },
  {
   "cell_type": "markdown",
   "metadata": {
    "colab_type": "text",
    "id": "7oqGa1DSbo0r"
   },
   "source": [
    "1. Compute the PCA of the \n",
    "\n",
    "\n"
   ]
  },
  {
   "cell_type": "markdown",
   "metadata": {},
   "source": [
    "## References\n",
    "\n",
    "[1] Saez, E. Lopez-Caballero, F. and Modaressi Farahmand-Razavi, A. (2011) *Effect of the inelastic dynamic soil–structure interaction on the seismic vulnerability assessment*. Structural Safety 33 (2011) 51-63. doi:10.1016/j.strusafe.2010.05.004"
   ]
  },
  {
   "cell_type": "code",
   "execution_count": null,
   "metadata": {},
   "outputs": [],
   "source": []
  }
 ],
 "metadata": {
  "colab": {
   "authorship_tag": "ABX9TyPJU7Rz/GBpNGZirEuOfB9y",
   "collapsed_sections": [],
   "include_colab_link": true,
   "name": "MIFO_ML.ipynb",
   "provenance": [],
   "toc_visible": true
  },
  "kernelspec": {
   "display_name": "Python 3",
   "language": "python",
   "name": "python3"
  },
  "language_info": {
   "codemirror_mode": {
    "name": "ipython",
    "version": 3
   },
   "file_extension": ".py",
   "mimetype": "text/x-python",
   "name": "python",
   "nbconvert_exporter": "python",
   "pygments_lexer": "ipython3",
   "version": "3.8.6"
  }
 },
 "nbformat": 4,
 "nbformat_minor": 1
}
