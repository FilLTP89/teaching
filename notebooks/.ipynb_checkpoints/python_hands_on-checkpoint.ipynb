{
 "cells": [
  {
   "cell_type": "markdown",
   "metadata": {
    "colab_type": "text",
    "id": "view-in-github"
   },
   "source": [
    "<a href=\"https://colab.research.google.com/github/FilLTP89/teaching/blob/master/python_hands_on.ipynb\" target=\"_parent\"><img src=\"https://colab.research.google.com/assets/colab-badge.svg\" alt=\"Open In Colab\"/></a>"
   ]
  },
  {
   "cell_type": "markdown",
   "metadata": {
    "colab_type": "text",
    "id": "FjpNmRwhS_lw"
   },
   "source": [
    "## Hands on NumPy \n",
    "\n",
    "In this exercise, we will massively make use of the **`numpy`** package. Full user-guide can be found [here](https://docs.scipy.org/doc/numpy/user/basics.html).\n",
    "\n",
    "In **`Python`**, packages must be imported as follows: "
   ]
  },
  {
   "cell_type": "code",
   "execution_count": 0,
   "metadata": {
    "colab": {},
    "colab_type": "code",
    "id": "i9LQuL6iQ6gR"
   },
   "outputs": [],
   "source": [
    "import numpy as np"
   ]
  },
  {
   "cell_type": "markdown",
   "metadata": {
    "colab_type": "text",
    "id": "_Ns5JP7MUQRp"
   },
   "source": [
    "**`numpy`** supports a much greater variety of numerical types than **`Python`**  does (see **`numpy`** [Data types](https://docs.scipy.org/doc/numpy/user/basics.types.html) )"
   ]
  },
  {
   "cell_type": "code",
   "execution_count": 0,
   "metadata": {
    "colab": {
     "base_uri": "https://localhost:8080/",
     "height": 34
    },
    "colab_type": "code",
    "id": "8_Hm1FuTUOwg",
    "outputId": "9b8f34c7-6df0-4776-dfb3-3ef312770594"
   },
   "outputs": [
    {
     "name": "stdout",
     "output_type": "stream",
     "text": [
      "single 1.2333333492279053 - double 1.2333333353454363\n"
     ]
    }
   ],
   "source": [
    "a = np.single(1.233333335345436262)\n",
    "b = np.double(1.233333335345436262)\n",
    "print(\"single {} - double {}\".format(a,b))"
   ]
  },
  {
   "cell_type": "markdown",
   "metadata": {
    "colab_type": "text",
    "id": "BbdDGKudVO9b"
   },
   "source": [
    "In **`numpy`**, there are 5 general mechanisms for creating arrays:\n",
    "\n",
    "+ Conversion from other **`Python`** structures (e.g., lists, tuples)\n",
    "\n"
   ]
  },
  {
   "cell_type": "code",
   "execution_count": 0,
   "metadata": {
    "colab": {},
    "colab_type": "code",
    "id": "nvOQvHNbWleY"
   },
   "outputs": [],
   "source": [
    "x = np.array([2,3,1,0])\n",
    "x = np.array([2, 3, 1, 0])\n",
    "x = np.array([[1,2.0],[0,0],(1+1j,3.)]) # note mix of tuple and lists and types\n",
    "x = np.array([[ 1.+0.j, 2.+0.j], [ 0.+0.j, 0.+0.j], [ 1.+1.j, 3.+0.j]])"
   ]
  },
  {
   "cell_type": "markdown",
   "metadata": {
    "colab_type": "text",
    "id": "Si-xVJsDWkNf"
   },
   "source": [
    "+ Intrinsic numpy array creation objects (e.g., `arange`, `ones`, `zeros`, etc.)"
   ]
  },
  {
   "cell_type": "code",
   "execution_count": 0,
   "metadata": {
    "colab": {},
    "colab_type": "code",
    "id": "5Ec03cFwWz42"
   },
   "outputs": [],
   "source": [
    "a = np.zeros((2, 3)) \n",
    "print(a)\n",
    "b = np.arange(10)\n",
    "print(b)\n",
    "c = np.arange(2, 10, dtype=float)\n",
    "print(c)\n",
    "d = np.arange(2, 3, 0.1)\n",
    "print(d)\n",
    "e = np.linspace(1., 4., 6)\n",
    "print(e)\n",
    "f = np.indices((3,3))\n",
    "print(f)"
   ]
  },
  {
   "cell_type": "markdown",
   "metadata": {
    "colab_type": "text",
    "id": "3-ZJVsQBW0Sg"
   },
   "source": [
    "+ Reading arrays from disk, either from standard or custom formats"
   ]
  },
  {
   "cell_type": "code",
   "execution_count": 0,
   "metadata": {
    "colab": {},
    "colab_type": "code",
    "id": "s63oxlb3Xc5x"
   },
   "outputs": [],
   "source": [
    "my_data = genfromtxt('my_file.csv', delimiter=',')"
   ]
  },
  {
   "cell_type": "markdown",
   "metadata": {
    "colab_type": "text",
    "id": "PUzTkgPnXf9o"
   },
   "source": [
    "\n",
    "+ Creating arrays from raw bytes through the use of strings or buffers\n",
    "\n",
    "+ Use of special library functions (e.g., `random`)"
   ]
  },
  {
   "cell_type": "markdown",
   "metadata": {
    "colab_type": "text",
    "id": "cs2jIkiNXh8E"
   },
   "source": [
    "In **`numpy`**, array indexing refers to any use of the square brackets ([]) to index array values.\n",
    "\n",
    "**Indexing starts at index 0!**\n",
    "\n",
    "There are many options to indexing:"
   ]
  },
  {
   "cell_type": "code",
   "execution_count": 0,
   "metadata": {
    "colab": {
     "base_uri": "https://localhost:8080/",
     "height": 538
    },
    "colab_type": "code",
    "id": "CJXh7mNwYZFD",
    "outputId": "66df24a8-7358-4b61-e9cb-868517584aa5"
   },
   "outputs": [
    {
     "name": "stdout",
     "output_type": "stream",
     "text": [
      "x \n",
      ">>>[0 1 2 3 4 5 6 7 8 9]\n",
      "x[2] \n",
      ">>>2\n",
      "x[-2] \n",
      ">>>8\n",
      "x \n",
      ">>>[0. 1. 2. 3. 4. 5. 6. 7. 8. 9.]\n",
      "x[2] \n",
      ">>>2.0\n",
      "x[-2] \n",
      ">>>8.0\n",
      "x[1,3] \n",
      ">>>8.0\n",
      "x[1,-1] \n",
      ">>>9.0\n",
      "x[0] \n",
      ">>>[0. 1. 2. 3. 4.]\n",
      "x[0][2] \n",
      ">>>2.0\n",
      "x[2:5] \n",
      ">>>[2 3 4]\n",
      "x[:-7] \n",
      ">>>[0 1 2]\n",
      "x[1:7:2] \n",
      ">>>[1 3 5]\n",
      "y[1:5:2,::3] \n",
      ">>>[[ 7 10 13]\n",
      " [21 24 27]]\n",
      "y[b] \n",
      ">>>[21 22 23 24 25 26 27 28 29 30 31 32 33 34]\n"
     ]
    }
   ],
   "source": [
    "x = np.arange(10)\n",
    "print('x \\n>>>{}'.format(x))\n",
    "print('x[2] \\n>>>{}'.format(x[2]))\n",
    "print('x[-2] \\n>>>{}'.format(x[-2])) # from end\n",
    "\n",
    "x = np.arange(10,dtype=np.float_)\n",
    "print('x \\n>>>{}'.format(x))\n",
    "print('x[2] \\n>>>{}'.format(x[2]))\n",
    "print('x[-2] \\n>>>{}'.format(x[-2])) # from end\n",
    "\n",
    "# reshaping to matrix\n",
    "x.shape = (2,5) # now x is 2-dimensional\n",
    "print('x[1,3] \\n>>>{}'.format(x[1,3])) # second row (index 1), fourth column (index 3)\n",
    "print('x[1,-1] \\n>>>{}'.format(x[1,-1])) # second row (index 1), last column (index -1)\n",
    "print('x[0] \\n>>>{}'.format(x[0])) # first row (index 0) printed as an array\n",
    "print('x[0][2] \\n>>>{}'.format(x[0][2])) # third element (index 2) of first row (x[0])\n",
    "\n",
    "# indexing by striding\n",
    "x = np.arange(10)\n",
    "print('x[2:5] \\n>>>{}'.format(x[2:5]))\n",
    "print('x[:-7] \\n>>>{}'.format(x[:-7]))\n",
    "print('x[1:7:2] \\n>>>{}'.format(x[1:7:2]))\n",
    "\n",
    "y = np.arange(35).reshape(5,7)\n",
    "print('y[1:5:2,::3] \\n>>>{}'.format(y[1:5:2,::3]))\n",
    "\n",
    "# boolean indexing\n",
    "b = y>20\n",
    "print('y[b] \\n>>>{}'.format(y[b]))"
   ]
  },
  {
   "cell_type": "markdown",
   "metadata": {
    "colab_type": "text",
    "id": "yYRavd_1b79I"
   },
   "source": [
    "Arithmetic operations on **`numpy`** are performed with the following syntax:\n"
   ]
  },
  {
   "cell_type": "code",
   "execution_count": 0,
   "metadata": {
    "colab": {
     "base_uri": "https://localhost:8080/",
     "height": 569
    },
    "colab_type": "code",
    "id": "CN-FpNo4cOst",
    "outputId": "8afe2487-d0f9-48cd-cafe-b7e36f34f15f"
   },
   "outputs": [
    {
     "name": "stdout",
     "output_type": "stream",
     "text": [
      "c \n",
      ">>>[20 29 38 47]\n",
      "b^2 \n",
      ">>>[0 1 4 9]\n",
      "10*np.sin(a) \n",
      ">>>[ 9.12945251 -9.88031624  7.4511316  -2.62374854]\n",
      "A * B \n",
      ">>>[[2 0]\n",
      " [0 4]]\n",
      "A @ B \n",
      ">>>[[5 4]\n",
      " [3 4]]\n",
      "A.dot(B) \n",
      ">>>[[5 4]\n",
      " [3 4]]\n",
      "a*=3 \n",
      ">>>[[3 3 3]\n",
      " [3 3 3]]\n",
      "b += a \n",
      ">>>[[3.29617077 3.33391564 3.33635282]\n",
      " [3.48762001 3.56184568 3.33737801]]\n"
     ]
    },
    {
     "ename": "TypeError",
     "evalue": "ignored",
     "output_type": "error",
     "traceback": [
      "\u001b[0;31m---------------------------------------------------------------------------\u001b[0m",
      "\u001b[0;31mTypeError\u001b[0m                                 Traceback (most recent call last)",
      "\u001b[0;32m<ipython-input-19-1cac3415b7b8>\u001b[0m in \u001b[0;36m<module>\u001b[0;34m()\u001b[0m\n\u001b[1;32m     18\u001b[0m \u001b[0mb\u001b[0m \u001b[0;34m+=\u001b[0m \u001b[0ma\u001b[0m\u001b[0;34m\u001b[0m\u001b[0;34m\u001b[0m\u001b[0m\n\u001b[1;32m     19\u001b[0m \u001b[0mprint\u001b[0m\u001b[0;34m(\u001b[0m\u001b[0;34m'b += a \\n>>>{}'\u001b[0m\u001b[0;34m.\u001b[0m\u001b[0mformat\u001b[0m\u001b[0;34m(\u001b[0m\u001b[0mb\u001b[0m\u001b[0;34m)\u001b[0m\u001b[0;34m)\u001b[0m\u001b[0;34m\u001b[0m\u001b[0;34m\u001b[0m\u001b[0m\n\u001b[0;32m---> 20\u001b[0;31m \u001b[0ma\u001b[0m \u001b[0;34m+=\u001b[0m \u001b[0mb\u001b[0m \u001b[0;31m# b is not automatically converted to intege\u001b[0m\u001b[0;34m\u001b[0m\u001b[0;34m\u001b[0m\u001b[0m\n\u001b[0m",
      "\u001b[0;31mTypeError\u001b[0m: Cannot cast ufunc add output from dtype('float64') to dtype('int64') with casting rule 'same_kind'"
     ]
    }
   ],
   "source": [
    "a = np.array( [20,30,40,50] )\n",
    "b = np.arange( 4 )\n",
    "c = a-b\n",
    "print('c \\n>>>{}'.format(c))\n",
    "print('b^2 \\n>>>{}'.format(b**2))\n",
    "print('10*np.sin(a) \\n>>>{}'.format(10*np.sin(a)))\n",
    "\n",
    "A = np.array( [[1,1],[0,1]] )\n",
    "B = np.array( [[2,0],[3,4]] )\n",
    "print('A * B \\n>>>{}'.format(A * B))  # elementwise product\n",
    "print('A @ B \\n>>>{}'.format(A @ B))  # matrix product\n",
    "print('A.dot(B) \\n>>>{}'.format(A.dot(B))) # another matrix product\n",
    "\n",
    "a = np.ones((2,3), dtype=int)\n",
    "b = np.random.random((2,3))\n",
    "a*=3\n",
    "print('a*=3 \\n>>>{}'.format(a))\n",
    "b += a\n",
    "print('b += a \\n>>>{}'.format(b))\n",
    "a += b # b is not automatically converted to intege\n"
   ]
  },
  {
   "cell_type": "markdown",
   "metadata": {
    "colab_type": "text",
    "id": "Ni6B5WARgFWY"
   },
   "source": [
    "## Hands on Matplotlib\n",
    "\n",
    "In this exercise, we will massively make use of the **`matplotlib`** package, a **Python** 2D plotting library which produces publication quality figures in a variety of hardcopy formats and interactive environments across platforms.\n",
    "\n",
    "Full user-guide can be found [here](https://matplotlib.org/users/index.html).\n",
    "\n",
    "In **`Python`** notebook, plotting packages must be imported as follows: "
   ]
  },
  {
   "cell_type": "code",
   "execution_count": 0,
   "metadata": {
    "colab": {},
    "colab_type": "code",
    "id": "GaggBY1lQ6gX"
   },
   "outputs": [],
   "source": [
    "import matplotlib.pyplot as plt\n",
    "from matplotlib import cm \n",
    "from mpl_toolkits.mplot3d import axes3d, Axes3D\n",
    "%matplotlib inline"
   ]
  },
  {
   "cell_type": "markdown",
   "metadata": {
    "colab_type": "text",
    "id": "_qrybpK0hKJa"
   },
   "source": [
    "`matplotlib.pyplot` is a collection of command style functions that make matplotlib work like `MATLAB`. Each pyplot function makes some change to a figure: e.g., creates a figure, creates a plotting area in a figure, plots some lines in a plotting area, decorates the plot with labels, etc.\n",
    "\n",
    "In `matplotlib.pyplot` various states are preserved across function calls, so that it keeps track of things like the current figure and plotting area, and the plotting functions are directed to the current axes (please note that \"axes\" here and in most places in the documentation refers to the axes part of a figure and not the strict mathematical term for more than one axis)."
   ]
  },
  {
   "cell_type": "code",
   "execution_count": 0,
   "metadata": {
    "colab": {
     "base_uri": "https://localhost:8080/",
     "height": 286
    },
    "colab_type": "code",
    "id": "QeG88Q6QhJXU",
    "outputId": "2f702d8b-4db7-4a81-b3db-f103210a5530"
   },
   "outputs": [
    {
     "data": {
      "text/plain": [
       "<matplotlib.legend.Legend at 0x7f07c2848710>"
      ]
     },
     "execution_count": 44,
     "metadata": {
      "tags": []
     },
     "output_type": "execute_result"
    },
    {
     "data": {
      "image/png": "[encoded data removed]",
      "text/plain": [
       "<Figure size 432x288 with 1 Axes>"
      ]
     },
     "metadata": {
      "tags": []
     },
     "output_type": "display_data"
    }
   ],
   "source": [
    "plt.plot([1., 2., 3., 4.],color='blue',marker='d',linestyle=':',label='linear')\n",
    "plt.plot([1., 2., 3., 4.], [1., 4., 9., 16.],color='red', marker='+',label='parabolic')\n",
    "\n",
    "plt.xlim(0.,5.)\n",
    "plt.ylim(0.,20.)\n",
    "plt.xticks(np.arange(0.,5.5,0.5))\n",
    "plt.yticks(np.arange(0.,21.,1.))\n",
    "plt.ylabel('some numbers',fontweight='bold')\n",
    "plt.legend()"
   ]
  }
 ],
 "metadata": {
  "colab": {
   "collapsed_sections": [],
   "include_colab_link": true,
   "name": "python-hands-on.ipynb",
   "provenance": []
  },
  "kernelspec": {
   "display_name": "Python 3",
   "language": "python",
   "name": "python3"
  },
  "language_info": {
   "codemirror_mode": {
    "name": "ipython",
    "version": 3
   },
   "file_extension": ".py",
   "mimetype": "text/x-python",
   "name": "python",
   "nbconvert_exporter": "python",
   "pygments_lexer": "ipython3",
   "version": "3.8.6"
  }
 },
 "nbformat": 4,
 "nbformat_minor": 1
}
