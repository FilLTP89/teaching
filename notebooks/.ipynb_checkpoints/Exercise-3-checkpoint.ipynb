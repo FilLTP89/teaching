{
 "cells": [
  {
   "cell_type": "markdown",
   "metadata": {
    "colab_type": "text",
    "id": "lDJs8ANBXnAC"
   },
   "source": [
    "# **Critical State Strength Models: Cam-Clay and Modified-Cam-Clay**\n",
    "\n",
    "## Introduction\n",
    "The first critical state models for describing the behaviour of soft soils such as clay, the Cam-Clay (CC) and\n",
    "Modified Cam-Clay (MCC) were formulated by researchers at Cambridge University. Both models describe three\n",
    "important aspects of soil behaviour:\n",
    " 1. Strength\n",
    " 2. Compression or dilatancy (the volume change that occurs with shearing)\n",
    " 3. Critical state at which soil elements can experience unlimited distortion without any changes in stress or\n",
    "volume.\n",
    "\n",
    "A large proportion of the volume occupied by a soil mass consists of voids that may be filled by fluids (primarily air\n",
    "and water). As a result, deformations in soil are accompanied by significant, and often non-reversible, volume\n",
    "changes. \n",
    "\n",
    "\n",
    "A major advantage of cap plasticity models, a class to which the CC and MCC formulations belong, is their\n",
    "ability to model volume changes more realistically.\n",
    "The primary assumptions of the CC and MCC models are described next. "
   ]
  },
  {
   "cell_type": "markdown",
   "metadata": {
    "colab_type": "text",
    "id": "gomrPdPoWd3n"
   },
   "source": [
    "## Task\n",
    "Following the lecture notes and the practical hands on session, complete the following code (where the tag [COMPLETE] is shown) so to:\n",
    "\n",
    "- write the yield limit function\n",
    "- compute the elasto-plastic stiffness matrix\n",
    "- integrate the MCC model for a given strain history\n",
    "- plot the loading path obtained"
   ]
  },
  {
   "cell_type": "code",
   "execution_count": 1,
   "metadata": {
    "colab": {},
    "colab_type": "code",
    "id": "i9LQuL6iQ6gR"
   },
   "outputs": [],
   "source": [
    "import numpy as np"
   ]
  },
  {
   "cell_type": "code",
   "execution_count": 2,
   "metadata": {
    "colab": {},
    "colab_type": "code",
    "id": "GaggBY1lQ6gX"
   },
   "outputs": [],
   "source": [
    "import matplotlib.pyplot as plt\n",
    "from matplotlib import cm \n",
    "from mpl_toolkits.mplot3d import axes3d, Axes3D\n",
    "%matplotlib inline"
   ]
  },
  {
   "cell_type": "code",
   "execution_count": 3,
   "metadata": {
    "colab": {},
    "colab_type": "code",
    "id": "T1Y_NPI3hGob"
   },
   "outputs": [],
   "source": [
    "from IPython.display import Latex, display, Image, HTML "
   ]
  },
  {
   "cell_type": "markdown",
   "metadata": {
    "colab_type": "text",
    "id": "ImzZckHZZ5C5"
   },
   "source": [
    "## Matlab Code for Cam-Clay Model (Drained and Undrained)\n",
    "## Author: Krishna Kumar, University of Cambridge\n",
    "## GNU GPL V2.0 License\n",
    "## Modified by Camille Gandiolle, CentraleSupelec on 10/2017\n",
    "\n",
    "    This program is free software: you can redistribute it and/or modify\n",
    "    it under the terms of the GNU General Public License as published by\n",
    "    the Free Software Foundation, version 2 of the License.\n",
    "    This program is distributed in the hope that it will be useful,\n",
    "    but WITHOUT ANY WARRANTY; without even the implied warranty of\n",
    "    MERCHANTABILITY or FITNESS FOR A PARTICULAR PURPOSE.  See the\n",
    "    GNU General Public License for more details.\n",
    "    You should have received a copy of the GNU General Public License\n",
    "    along with this program.  If not, see <http://www.gnu.org/licenses/>');\n"
   ]
  },
  {
   "cell_type": "code",
   "execution_count": 0,
   "metadata": {
    "colab": {},
    "colab_type": "code",
    "id": "tpJ1E0VdYFsF"
   },
   "outputs": [],
   "source": [
    "\n",
    "# Input Parameters\n",
    "TOL = 1.E-5\n",
    "cp=150.     # inital Consolidation pressure (kPa) = p_max de yield surface\n",
    "p0=40.      # initial Confining pressure (kPa) = consolidation isotrope avant essai\n",
    "M=1.        # Critical Friction Angle M\n",
    "l=0.2       # Lambda\n",
    "k=0.04      # Kappa\n",
    "N=2.5       # N relation de consolidation élastique : v=N-K*ln(p) \n",
    "nu=0.15     # poissons ratio\n",
    "analysis =1 # type of Analysis: (1) Triaxial Drained (2) Triaxial Undrained"
   ]
  },
  {
   "cell_type": "code",
   "execution_count": 0,
   "metadata": {
    "colab": {},
    "colab_type": "code",
    "id": "NT_v_T1AZu_o"
   },
   "outputs": [],
   "source": [
    "# Other Parameters (V,e0 and OCR)\n",
    "pc=cp\n",
    "V=N-(l*np.log(pc))+(k*np.log(pc/p0)) # Specific Volume\n",
    "e0=V-1.                        # Initial Void Ratio\n",
    "OCR=cp/p0                      # Over Consolidation Ratio\n",
    "# Strain Increament and Strain Matrix Definition\n",
    "# Nombre d'iterations a choisr\n",
    "\n",
    "iteration=8000 #input('Enter number of iterations to perform  (eg., 7500) = ')\n",
    "if (iteration < 7500 or iteration == ' '):\n",
    "    iter=7500\n",
    "else:\n",
    "  iter=iteration\n",
    "\n",
    "strsteps=0.01\n",
    "if strsteps > 0.01 or strsteps == ' ' or strsteps <= 0.:\n",
    "    ide=0.01\n",
    "else:\n",
    "    ide=strsteps\n",
    "\n",
    "de=ide/100\n",
    "es=np.arange(0,iter*ide,ide) # Strain path"
   ]
  },
  {
   "cell_type": "code",
   "execution_count": 0,
   "metadata": {
    "colab": {},
    "colab_type": "code",
    "id": "BP0HzuUedS1O"
   },
   "outputs": [],
   "source": [
    "## Initialize   \n",
    "De=np.zeros((6,6))     # Stiffness Matrix\n",
    "dfds=np.zeros((6,))\n",
    "dfdep=np.zeros((6,))\n",
    "u=np.zeros((iter,))    # Pore Water Pressure\n",
    "p=np.zeros((iter,))    # Mean Effective Stress p'\n",
    "q=np.zeros((iter,))    # Deviatoric Stress\n",
    "dStrain=np.zeros((6,)) # Increamental Strain\n",
    "void=np.zeros((iter,)) # Void ratio\n",
    "epsV=np.zeros((iter,)) # Volumetic Strain\n",
    "epsD=np.zeros((iter,6)) # Deviatoric Strain\n",
    "S=np.array([p0,p0,p0,0.,0.,0.])   # Current Stress \n",
    "strain=np.zeros((6,))             # Current Strain\n",
    "epsVn = 0.\n",
    "epsDn = np.zeros((6,))\n",
    "\n",
    "# Yield Surface and Conditions\n",
    "p_ini_yld=np.arange(0,pc)\n",
    "q_ini_yld = M*p_ini_yld # CSL in q-p\n",
    "\n",
    "\n",
    "# CamClay Iteration Uni-Loop Iteration for OC/NC & Inside/Outside Yield\n",
    "for tn in range(iter):\n",
    "    # update stress state\n",
    "    p[tn]=S[0:2].sum()/3\n",
    "    q[tn]=S[0]-S[2]\n",
    "    u[tn]=p0+q[tn]/3-p[tn]\n",
    "    \n",
    "    yld = np.minimum(q[tn]**2/M**2+p[tn]**2-2*p[tn]*pc,-TOL)\n",
    "\n",
    "    # critic pressure\n",
    "    if np.abs(yld) <= TOL:\n",
    "        # [COMPLETE] \n",
    "        # Given the elasto-plastic consistency rules\n",
    "        # Compute the update value of pc for elasto-plastic loading\n",
    "\n",
    "    else:\n",
    "        pc=cp\n",
    "    # Update Specific Volume\n",
    "    V=N-l*np.log(np.maximum(pc,TOL))+k*np.log(np.maximum(pc,TOL)/np.maximum(p[tn],TOL))\n",
    "\n",
    "    #Subsequent cycle update\n",
    "    void[tn] = V-1.0\n",
    "    \n",
    "    # Lamé parameters\n",
    "    # [COMPUTE] Compute the values of non-linear (pressure-dependent) Lamé parameters\n",
    "    # [HINT] Start by computing the bulk modulus K, as a function of the pressure and\n",
    "    # of the void ratio and then compute the shear-modulus G by exploiting the\n",
    "    # classical elastic relationships\n",
    "\n",
    "    # Elastic Stiffness and other Matrix \n",
    "    for n in range(6):\n",
    "        for m in range(6): \n",
    "            if m < 3:\n",
    "                if np.abs(yld) < TOL:\n",
    "                    # [COMPLETE] compute the derivatives of f\n",
    "                    # with respect to the stress state (dfds)\n",
    "                    # and with respect to the plastic deformations (dfdep)\n",
    "                    # [HINT] pc = pc0*exp(alphap*epspv) et alphap=(1+e0)/(lambda-k)\n",
    "                    \n",
    "                else: \n",
    "                    dfds[m] = 0.\n",
    "                    dfdep[m]= 0.\n",
    "\n",
    "                # [COMPLETE] Compute the elastic stiffness matrix De\n",
    "                if m==n:\n",
    "                    De[m,n]=  #  Elastic Stiffness\n",
    "                else: \n",
    "                    De[m,n]=\n",
    "             \n",
    "            else:\n",
    "                dfds[m]=0\n",
    "                dfdep[m]=0 # df/ds' and # df/dep\n",
    "                # [COMPLETE] Compute the elastic stiffness matrix De\n",
    "                if m==n:\n",
    "                    De[m,n]= # Elastic Stiffness\n",
    "                else:  \n",
    "                    De[m,n] = \n",
    "\n",
    "    # Elastoplastic Stiffness Matrix  \n",
    "    if yld<0: # Elastic\n",
    "        D=De\n",
    "    else: # Plastic\n",
    "        # [COMPLETE] assemble the elasto-plastic stiffness matrix D\n",
    "        D=De- ...\n",
    "       \n",
    "    # Stress and Strain Updates\n",
    "    if analysis==1: #Triaxial Drained\n",
    "        dStrain=np.array([de,-D[1,0]/(D[1,1]+D[1,2])*de,-D[2,0]/(D[2,1]+D[2,2])*de,0.,0.,0.])\n",
    "    elif analysis==2: #Triaxial Undrained\n",
    "        dStrain=np.array([de,-de/2.,-de/2.,0.,0.,0.])\n",
    "    else: #Oedometer Drained (analysis=3)\n",
    "        dStrain=np.array([de,0.,0.,0.,0.,0.])\n",
    "    \n",
    "    # [COMPLETE] given the elasto-plastic stiffness matrix D and the strain increment dStrain\n",
    "    # compute the stress increment dS\n",
    "    # [HINT] use the @ product provided by numpy\n",
    "    dS=...\n",
    "    S=S+dS\n",
    "    strain=strain+dStrain\n",
    "       \n",
    "    depsV = dStrain[0:2].sum()                # Increamental Volumetric Strain  \n",
    "    depsD = 2./3. * (dStrain[0] - dStrain[2]) # Increamental Deviatoric Strain   \n",
    "    epsV[tn] = epsVn + depsV\n",
    "    epsD[tn,:] = epsDn + depsD \n",
    "    epsVn = epsV[tn]\n",
    "    epsDn = epsD[tn][:]"
   ]
  },
  {
   "cell_type": "code",
   "execution_count": 0,
   "metadata": {
    "colab": {},
    "colab_type": "code",
    "id": "lYBcnyRcxOTH"
   },
   "outputs": [],
   "source": []
  },
  {
   "cell_type": "code",
   "execution_count": 0,
   "metadata": {
    "colab": {},
    "colab_type": "code",
    "id": "UhVIfZ5Nh8g6"
   },
   "outputs": [],
   "source": [
    "\n"
   ]
  },
  {
   "cell_type": "code",
   "execution_count": 0,
   "metadata": {
    "colab": {},
    "colab_type": "code",
    "id": "YZbzZOmQdrGY"
   },
   "outputs": [],
   "source": []
  }
 ],
 "metadata": {
  "colab": {
   "collapsed_sections": [],
   "name": "Exercise-3.ipynb",
   "provenance": []
  },
  "kernelspec": {
   "display_name": "Python 3",
   "language": "python",
   "name": "python3"
  },
  "language_info": {
   "codemirror_mode": {
    "name": "ipython",
    "version": 3
   },
   "file_extension": ".py",
   "mimetype": "text/x-python",
   "name": "python",
   "nbconvert_exporter": "python",
   "pygments_lexer": "ipython3",
   "version": "3.8.6"
  }
 },
 "nbformat": 4,
 "nbformat_minor": 1
}
