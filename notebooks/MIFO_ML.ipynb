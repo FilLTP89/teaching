{
 "cells": [
  {
   "cell_type": "markdown",
   "metadata": {
    "colab_type": "text",
    "id": "view-in-github"
   },
   "source": [
    "<a href=\"https://colab.research.google.com/github/FilLTP89/teaching/blob/master/MIFO_ML.ipynb\" target=\"_parent\"><img src=\"https://colab.research.google.com/assets/colab-badge.svg\" alt=\"Open In Colab\"/></a>"
   ]
  },
  {
   "cell_type": "markdown",
   "metadata": {
    "colab_type": "text",
    "id": "jvfMXRY5jx5M"
   },
   "source": [
    "# **Uncertainty modelling, quantification and non-parametric meta-modelling**\n",
    "\n",
    "This notebook is intended to show some interesting applications of major ***uncertainty quantification*** and ***non-parametric meta-modelling*** in the field of Civil Engineering. \n",
    "\n",
    "In this context, ***Machine Learning (ML)*** gained huge momentum in the last few years.\n",
    "\n",
    "ML was born from pioneering works in ***Artificial Intelligence, AI***. At its most basic, NL is the practice of using algorithms to ***parse data, learn from it, and then make a determination or prediction about something*** in the world.\n",
    "\n",
    "But what is the difference between Artificial Intelligence, Machine Learning, and Deep Learning? \n",
    "\n",
    "Think of them as concentric circles, one including another.\n",
    "\n",
    "\n"
   ]
  },
  {
   "cell_type": "code",
   "execution_count": 0,
   "metadata": {
    "colab": {},
    "colab_type": "code",
    "id": "zQ1_OHC_r-2n"
   },
   "outputs": [],
   "source": [
    "from IPython.display import Image"
   ]
  },
  {
   "cell_type": "code",
   "execution_count": 107,
   "metadata": {
    "colab": {
     "base_uri": "https://localhost:8080/",
     "height": 677
    },
    "colab_type": "code",
    "id": "pvBM--0FpWXO",
    "outputId": "d5804e72-8f44-4b43-be88-a017d64ef2cb"
   },
   "outputs": [
    {
     "data": {
      "text/html": [
       "<img src=\"https://blogs.nvidia.com/wp-content/uploads/2016/07/Deep_Learning_Icons_R5_PNG.jpg.png\" width=\"1000\"/>"
      ],
      "text/plain": [
       "<IPython.core.display.Image object>"
      ]
     },
     "execution_count": 107,
     "metadata": {
      "tags": []
     },
     "output_type": "execute_result"
    }
   ],
   "source": [
    "Image(url= \"https://blogs.nvidia.com/wp-content/uploads/2016/07/Deep_Learning_Icons_R5_PNG.jpg.png\", width=1000)"
   ]
  },
  {
   "cell_type": "markdown",
   "metadata": {
    "colab_type": "text",
    "id": "wFVnB1cor__Q"
   },
   "source": [
    "\n",
    "1. The dream of those AI pioneers was to construct complex machines that possessed the same characteristics of human intelligence. This is the concept we think of as ***General AI*** - fabulous machines that have all our senses (maybe even more), all our reason, and think just like we do. \n",
    "\n",
    "\n",
    "***C-3PO, an iconic example of General AI***"
   ]
  },
  {
   "cell_type": "code",
   "execution_count": 108,
   "metadata": {
    "colab": {
     "base_uri": "https://localhost:8080/",
     "height": 273
    },
    "colab_type": "code",
    "id": "aXLTNener3xx",
    "outputId": "56c7407f-7e13-481d-db53-6a007eb3bce4"
   },
   "outputs": [
    {
     "data": {
      "text/html": [
       "<img src=\"https://external-content.duckduckgo.com/iu/?u=https%3A%2F%2Fupload.wikimedia.org%2Fwikipedia%2Fpt%2F6%2F66%2FC-3PO.jpg&f=1&nofb=1\" width=\"200\"/>"
      ],
      "text/plain": [
       "<IPython.core.display.Image object>"
      ]
     },
     "execution_count": 108,
     "metadata": {
      "tags": []
     },
     "output_type": "execute_result"
    }
   ],
   "source": [
    "\n",
    "Image(url=\"https://external-content.duckduckgo.com/iu/?u=https%3A%2F%2Fupload.wikimedia.org%2Fwikipedia%2Fpt%2F6%2F66%2FC-3PO.jpg&f=1&nofb=1\",width=200)"
   ]
  },
  {
   "cell_type": "markdown",
   "metadata": {
    "colab_type": "text",
    "id": "yRCa0052sanw"
   },
   "source": [
    "2. ***Narrow AI***: Technologies that are able to perform specific tasks as well as, or better than, we humans can. Examples of narrow AI are things such as image classification on a service like Pinterest and face recognition on Facebook.\n",
    "\n",
    "3. ***Machine Learning*** is intended to *train* the machine using large amounts of data and algorithms that give it the ability to learn how to perform the task, rather than hand-coding software routines with a specific set of instructions to accomplish a particular task (as in General AI)\n",
    "\n",
    "4. *** Deep Learning*** is a way to train the machine by *trial&error* approach, on a huge amount of data. Image recognition was the dragging field that led Deep Learning prevail.\n",
    "\n",
    "The interest and the applications of Deep Learning approach exploded after 2012, due :\n",
    " 1. to the large amount of *labelled* ***open-source data*** in different fields of science, economy, society ; \n",
    " 2. to the increasing computational power available (in particular, exploiting ***Graphic Process Units, GPU***, widely used in computer vision applications) granting fast access to large databases.\n",
    "\n",
    "\n",
    "The latter issues shifted the paradigm that traditionally informed ML, steering the path of the so called ***Deep Learning*** approach (DL).\n",
    "\n",
    "Check [this article](https://blogs.nvidia.com/blog/2016/07/29/whats-difference-artificial-intelligence-machine-learning-deep-learning-ai/) for further reading on this topic."
   ]
  },
  {
   "cell_type": "markdown",
   "metadata": {
    "colab_type": "text",
    "id": "Zzfhscvzu4TW"
   },
   "source": [
    "-----"
   ]
  },
  {
   "cell_type": "markdown",
   "metadata": {
    "colab_type": "text",
    "id": "r9jelCyirJeo"
   },
   "source": [
    "\n",
    "\n",
    "`python3` offers a wide range of packages to perform ML and DL tasks:\n",
    "+ [`numpy`](https://numpy.org/)\n",
    "+ [`pandas`, Python Data Analysis Library](https://pandas.pydata.org/)\n",
    "+ [`scikit-learn`, Machine Learning in Python](https://scikit-learn.org/stable/index.html)\n",
    "\n",
    "In  the followig, we are going to exploit those tools to solve create non-parametric models to predict some quantities of interest. Let's upload those packages:"
   ]
  },
  {
   "cell_type": "code",
   "execution_count": 0,
   "metadata": {
    "colab": {},
    "colab_type": "code",
    "id": "0zM9OF9005GC"
   },
   "outputs": [],
   "source": [
    "import numpy as np\n",
    "import pandas as pd\n",
    "import sklearn as skl\n",
    "\n",
    "import matplotlib.pyplot as plt\n",
    "from matplotlib import cm \n",
    "from mpl_toolkits.mplot3d import axes3d, Axes3D\n",
    "%matplotlib inline"
   ]
  },
  {
   "cell_type": "markdown",
   "metadata": {
    "colab_type": "text",
    "id": "sRbjh8FDlrwx"
   },
   "source": [
    "Before getting started, a few general hints:\n",
    "\n",
    "1. `lambda` constructors: they are used in `python` to define anonymous functions ([see this link](https://realpython.com/python-lambda/))\n",
    "\n",
    "\n"
   ]
  },
  {
   "cell_type": "code",
   "execution_count": 110,
   "metadata": {
    "colab": {
     "base_uri": "https://localhost:8080/",
     "height": 35
    },
    "colab_type": "code",
    "id": "ZCYW6lnX0rRV",
    "outputId": "f8ed433d-25f1-4d48-fe59-d2dc8fccb377"
   },
   "outputs": [
    {
     "data": {
      "text/plain": [
       "array([4.5, 8.4, 9.3])"
      ]
     },
     "execution_count": 110,
     "metadata": {
      "tags": []
     },
     "output_type": "execute_result"
    }
   ],
   "source": [
    "arr = np.array([1.5, 2.8, 3.1])\n",
    "scale = lambda x: x * 3 \n",
    "scale(arr)"
   ]
  },
  {
   "cell_type": "markdown",
   "metadata": {
    "colab_type": "text",
    "id": "tlwVHKC4QCgC"
   },
   "source": [
    "2. Handle `pandas` dataframe"
   ]
  },
  {
   "cell_type": "code",
   "execution_count": 111,
   "metadata": {
    "colab": {
     "base_uri": "https://localhost:8080/",
     "height": 917
    },
    "colab_type": "code",
    "id": "FPA9JSHJQUdn",
    "outputId": "3f76a8db-1420-4caf-fd3b-cb013487324e"
   },
   "outputs": [
    {
     "data": {
      "text/html": [
       "<img src=\"https://www.tutorialspoint.com/python_pandas/images/structure_table.jpg\" width=\"1000\"/>"
      ],
      "text/plain": [
       "<IPython.core.display.Image object>"
      ]
     },
     "execution_count": 111,
     "metadata": {
      "tags": []
     },
     "output_type": "execute_result"
    }
   ],
   "source": [
    "Image(url=\"https://www.tutorialspoint.com/python_pandas/images/structure_table.jpg\",width=1000)"
   ]
  },
  {
   "cell_type": "code",
   "execution_count": 113,
   "metadata": {
    "colab": {
     "base_uri": "https://localhost:8080/",
     "height": 69
    },
    "colab_type": "code",
    "id": "ta5_ta5iQefI",
    "outputId": "c1dc3692-9ca4-4b81-eb11-ec08ab21458e"
   },
   "outputs": [
    {
     "name": "stdout",
     "output_type": "stream",
     "text": [
      "Empty DataFrame\n",
      "Columns: []\n",
      "Index: []\n"
     ]
    }
   ],
   "source": [
    "# Empty dataframe\n",
    "df = pd.DataFrame()\n",
    "print(df)"
   ]
  },
  {
   "cell_type": "code",
   "execution_count": 114,
   "metadata": {
    "colab": {
     "base_uri": "https://localhost:8080/",
     "height": 121
    },
    "colab_type": "code",
    "id": "Zseq-qWdQgEJ",
    "outputId": "18d6e699-e139-4178-fcfc-61ac15174de3"
   },
   "outputs": [
    {
     "name": "stdout",
     "output_type": "stream",
     "text": [
      "   0\n",
      "0  1\n",
      "1  2\n",
      "2  3\n",
      "3  4\n",
      "4  5\n"
     ]
    }
   ],
   "source": [
    "# Basic database\n",
    "data = [1,2,3,4,5]\n",
    "df = pd.DataFrame(data)\n",
    "print(df)"
   ]
  },
  {
   "cell_type": "code",
   "execution_count": 115,
   "metadata": {
    "colab": {
     "base_uri": "https://localhost:8080/",
     "height": 87
    },
    "colab_type": "code",
    "id": "pfzt1ZFAQkyd",
    "outputId": "4c4173b7-6086-451d-b039-c34ee38a462f"
   },
   "outputs": [
    {
     "name": "stdout",
     "output_type": "stream",
     "text": [
      "     Name  Age\n",
      "0    Alex   10\n",
      "1     Bob   12\n",
      "2  Clarke   13\n"
     ]
    }
   ],
   "source": [
    "# Database with column labels\n",
    "data = [['Alex',10],['Bob',12],['Clarke',13]]\n",
    "df = pd.DataFrame(data,columns=['Name','Age'])\n",
    "print(df)"
   ]
  },
  {
   "cell_type": "code",
   "execution_count": 116,
   "metadata": {
    "colab": {
     "base_uri": "https://localhost:8080/",
     "height": 87
    },
    "colab_type": "code",
    "id": "rnHJWEViQwCW",
    "outputId": "15510fc3-139d-426e-bac3-cdff07161289"
   },
   "outputs": [
    {
     "name": "stdout",
     "output_type": "stream",
     "text": [
      "     Name   Age\n",
      "0    Alex  10.0\n",
      "1     Bob  12.0\n",
      "2  Clarke  13.0\n"
     ]
    }
   ],
   "source": [
    "# Repartitioning data into dataframe\n",
    "data = [['Alex',10],['Bob',12],['Clarke',13]]\n",
    "df = pd.DataFrame(data,columns=['Name','Age'],dtype=float)\n",
    "print(df)"
   ]
  },
  {
   "cell_type": "code",
   "execution_count": 117,
   "metadata": {
    "colab": {
     "base_uri": "https://localhost:8080/",
     "height": 104
    },
    "colab_type": "code",
    "id": "sI3X_pS6Qwjp",
    "outputId": "faae65a1-719e-4b2e-8d82-fa0974f0360a"
   },
   "outputs": [
    {
     "name": "stdout",
     "output_type": "stream",
     "text": [
      "        Name  Age\n",
      "rank1    Tom   28\n",
      "rank2   Jack   34\n",
      "rank3  Steve   29\n",
      "rank4  Ricky   42\n"
     ]
    }
   ],
   "source": [
    "# Deal with indices\n",
    "data = {'Name':['Tom', 'Jack', 'Steve', 'Ricky'],'Age':[28,34,29,42]}\n",
    "df = pd.DataFrame(data, index=['rank1','rank2','rank3','rank4'])\n",
    "print(df)"
   ]
  },
  {
   "cell_type": "markdown",
   "metadata": {
    "colab_type": "text",
    "id": "eXEd3Abh3dxD"
   },
   "source": [
    "3. plot data: ([see this link](https://matplotlib.org/tutorials/introductory/usage.html#sphx-glr-tutorials-introductory-usage-py))\n",
    "\n"
   ]
  },
  {
   "cell_type": "code",
   "execution_count": 118,
   "metadata": {
    "colab": {
     "base_uri": "https://localhost:8080/",
     "height": 295
    },
    "colab_type": "code",
    "id": "fjLz5ga_8crQ",
    "outputId": "e9de076c-bd1d-4d3f-aaf9-b9a6745bd0db"
   },
   "outputs": [
    {
     "data": {
      "image/png": "[encoded data removed]",
      "text/plain": [
       "<Figure size 432x288 with 1 Axes>"
      ]
     },
     "metadata": {
      "tags": []
     },
     "output_type": "display_data"
    }
   ],
   "source": [
    "x = np.linspace(0, 2, 100)\n",
    "plt.plot(x, x, label='linear')\n",
    "plt.plot(x, x**2, label='quadratic')\n",
    "plt.plot(x, x**3, label='cubic')\n",
    "plt.xlabel('x label')\n",
    "plt.ylabel('y label')\n",
    "plt.title(\"Simple Plot\")\n",
    "plt.legend()\n",
    "plt.show()"
   ]
  },
  {
   "cell_type": "markdown",
   "metadata": {
    "colab_type": "text",
    "id": "bYkl3yCMAZrI"
   },
   "source": [
    "4. Design ***Neural Network*** with `sklearn`:"
   ]
  },
  {
   "cell_type": "code",
   "execution_count": 119,
   "metadata": {
    "colab": {
     "base_uri": "https://localhost:8080/",
     "height": 681
    },
    "colab_type": "code",
    "id": "cGKFvCXfAga2",
    "outputId": "b6629e25-9b31-4af9-895f-a73a71b1b44d"
   },
   "outputs": [
    {
     "name": "stdout",
     "output_type": "stream",
     "text": [
      "X [[ 0.  0.  5. ...  0.  0.  0.]\n",
      " [ 0.  0.  0. ... 10.  0.  0.]\n",
      " [ 0.  0.  0. ... 16.  9.  0.]\n",
      " ...\n",
      " [ 0.  0.  1. ...  6.  0.  0.]\n",
      " [ 0.  0.  2. ... 12.  0.  0.]\n",
      " [ 0.  0. 10. ... 12.  1.  0.]]\n",
      "y [0 1 2 ... 8 9 8]\n",
      "X [[ 0.         -0.33501649 -0.04308102 ... -1.14664746 -0.5056698\n",
      "  -0.19600752]\n",
      " [ 0.         -0.33501649 -1.09493684 ...  0.54856067 -0.5056698\n",
      "  -0.19600752]\n",
      " [ 0.         -0.33501649 -1.09493684 ...  1.56568555  1.6951369\n",
      "  -0.19600752]\n",
      " ...\n",
      " [ 0.         -0.33501649 -0.88456568 ... -0.12952258 -0.5056698\n",
      "  -0.19600752]\n",
      " [ 0.         -0.33501649 -0.67419451 ...  0.8876023  -0.5056698\n",
      "  -0.19600752]\n",
      " [ 0.         -0.33501649  1.00877481 ...  0.8876023  -0.26113572\n",
      "  -0.19600752]]\n",
      "Training set score: 0.978854\n",
      "Training set loss: 0.009886\n",
      "MSE on test set: 0.9554937413073713\n"
     ]
    },
    {
     "data": {
      "image/png": "[encoded data removed]",
      "text/plain": [
       "<Figure size 432x288 with 1 Axes>"
      ]
     },
     "metadata": {
      "tags": []
     },
     "output_type": "display_data"
    }
   ],
   "source": [
    "'''Model of fitting function for MLP classifier'''\n",
    "\n",
    "\"\"\"\n",
    "        Fit the model to the data\n",
    "        \n",
    "        Args:\n",
    "            X (np.ndarray): features\n",
    "            y (np.array): target labels\n",
    "            \n",
    "        Returns:\n",
    "            obj: the MLPClassifierWrapper object\n",
    "\"\"\"\n",
    "from sklearn.neural_network import MLPClassifier\n",
    "from sklearn.preprocessing import StandardScaler, MinMaxScaler\n",
    "from sklearn import datasets\n",
    "from sklearn.model_selection import train_test_split\n",
    "\n",
    "# Prepare dataset\n",
    "iris = datasets.load_iris()\n",
    "X, y = datasets.load_digits(return_X_y=True)\n",
    "print('X {}'.format(X))\n",
    "print('y {}'.format(y))\n",
    "X = StandardScaler().fit_transform(X)\n",
    "print('X {}'.format(X))\n",
    "X_train, X_test, y_train, y_test = train_test_split(X, y, test_size=.4, random_state=42)\n",
    "\n",
    "\n",
    "number_of_layers=2\n",
    "hidden_layer_size= (10,10) # number of neurons per layer - must be tuple\n",
    "activation = 'relu' # activation function\n",
    "alpha = 0.00000001 # learning rate\n",
    "max_iter = 1000 # maximum number of epochs of training\n",
    "model=MLPClassifier(activation=activation,hidden_layer_sizes=hidden_layer_size,\n",
    "                    alpha=alpha,random_state=0,max_iter=max_iter)\n",
    "model.fit(X_train,y_train)\n",
    "print(\"Training set score: %f\" % model.score(X, y))\n",
    "print(\"Training set loss: %f\" % model.loss_)\n",
    "plt.plot(model.loss_curve_)\n",
    "\n",
    "\n",
    "# Predict test dataset\n",
    "y_pred = model.predict(X_test)\n",
    "print('MSE on test set: {}'.format((np.abs(y_pred-y_test)**2).mean()))\n"
   ]
  },
  {
   "cell_type": "markdown",
   "metadata": {
    "colab_type": "text",
    "id": "Hpl-qfehPLSe"
   },
   "source": [
    "----"
   ]
  },
  {
   "cell_type": "markdown",
   "metadata": {
    "colab_type": "text",
    "id": "4DEbwsSH3rgz"
   },
   "source": [
    "## Task 1: Non-linear regressions\n",
    "\n",
    "The aim of this task is to get acquainted with non-linear polynomial regressions. In this task, the following *kindergarten* equation is considered:\n",
    "\n",
    "$$f(x) = \\sin(30(x-0.9)^4)\\cos(2(x-0.9))+\\frac{x-0.9}{2}$$\n",
    "\n",
    "Given the equation above, solve the following issues:\n",
    "\n",
    "1.  Plot $f(x)$ and evaluate it at 100 random points $x_i\\in\\left[0,1\\right]$ (hint: check [`numpy` random sampling](https://docs.scipy.org/doc/numpy-1.14.0/reference/routines.random.html)).\n",
    "2. Using [`numpy.polyfit`](https://docs.scipy.org/doc/numpy/reference/generated/numpy.polyfit.html) or [`sklearn fit/predict` tool](https://scikit-learn.org/stable/auto_examples/linear_model/plot_polynomial_interpolation.html), fit the selected points for different polynomial orders (hint: 3,4,5,... or piece-wise polynomials). Show the fitting improvements obtained when changing the polynomial order.\n",
    "3. How the fit improves when considering 10, 100, 1000 random points?\n",
    "4.  Design a meta-model based on ***Multi-Layer perceptron (MLP)*** to fit the curve sampled with 10, 100, 1000 points respectively. Use the least number of layers and neurons possible (hint: use the [`sklearn.neural_network.MLPRegressor`](http://www.machinelearningtutorial.net/2017/01/28/python-scikit-simple-function-approximation/)."
   ]
  },
  {
   "cell_type": "markdown",
   "metadata": {
    "colab_type": "text",
    "id": "lD6_ownoAUkY"
   },
   "source": [
    "## Task 2: Non-parametric meta-modelling\n",
    "\n",
    "Consider now a training set of samples $(x_i,y_i)$, listed in the table given in the file `dataset_training.csv`. This set of points represents real measurements of an unknown physical phenomenon. Measurements are inevitably polluted by observational errors.\n",
    "The aim of this task is to construct a non-parametric meta-model based on Artificial Neural Network.\n",
    "Given the training dataset, solve the following issues: \n",
    "\n",
    "1. Plot the *training* dataset and use polynomial regression to fit the data and find a *trend* (hint: use [`pandas.read_csv`](https://pandas.pydata.org/pandas-docs/stable/reference/api/pandas.read_csv.html) and [`pandas.DataFrame.plot`](https://pandas.pydata.org/pandas-docs/version/0.22/generated/pandas.DataFrame.plot.html))\n",
    "2. Design a 1-layer MLP, and train it on the training data-set. Compare the prediction on the training set, obtained with 1, 2 and 10 neurons. \n",
    "3. Analyze the MLP performances after training . Does the MLP *overfit* the data?\n",
    "4. Test the MLP performance on the *test* dataset, reported in the file `dataset_testing.csv`."
   ]
  },
  {
   "cell_type": "code",
   "execution_count": 120,
   "metadata": {
    "colab": {
     "base_uri": "https://localhost:8080/",
     "height": 398
    },
    "colab_type": "code",
    "id": "WSBmpiY3IuLH",
    "outputId": "07633369-a6ce-485e-8958-3ab29bee02d8"
   },
   "outputs": [
    {
     "data": {
      "text/html": [
       "<img src=\"https://scikit-learn.org/stable/_images/sphx_glr_plot_underfitting_overfitting_001.png\" width=\"1000\"/>"
      ],
      "text/plain": [
       "<IPython.core.display.Image object>"
      ]
     },
     "execution_count": 120,
     "metadata": {
      "tags": []
     },
     "output_type": "execute_result"
    }
   ],
   "source": [
    "Image(url=\"https://scikit-learn.org/stable/_images/sphx_glr_plot_underfitting_overfitting_001.png\",width=1000)"
   ]
  },
  {
   "cell_type": "code",
   "execution_count": 123,
   "metadata": {
    "colab": {
     "base_uri": "https://localhost:8080/",
     "height": 260
    },
    "colab_type": "code",
    "id": "o64UrzwrM9Us",
    "outputId": "cc86b97c-36fd-4b8c-e2a6-7fec33576b1f"
   },
   "outputs": [
    {
     "name": "stdout",
     "output_type": "stream",
     "text": [
      "          X             Y\n",
      "0     1.000 -4.786381e+04\n",
      "1     1.018  1.009941e+05\n",
      "2     1.036  2.568633e+05\n",
      "3     1.054  1.400795e+05\n",
      "4     1.072  2.906649e+05\n",
      "..      ...           ...\n",
      "496   9.928  1.002344e+06\n",
      "497   9.946  1.072772e+06\n",
      "498   9.964  9.368332e+05\n",
      "499   9.982  1.089995e+06\n",
      "500  10.000  1.059656e+06\n",
      "\n",
      "[501 rows x 2 columns]\n"
     ]
    }
   ],
   "source": [
    "dataset_training_link='https://raw.githubusercontent.com/FilLTP89/teaching/master/datasets/dataset_training.csv'\n",
    "\n",
    "dataset_testing_link='https://raw.githubusercontent.com/FilLTP89/teaching/master/datasets/dataset_testing.csv'\n",
    "\n",
    "# df = pd.read_csv(...)"
   ]
  },
  {
   "cell_type": "markdown",
   "metadata": {
    "colab_type": "text",
    "id": "qpfy1_w9RWfq"
   },
   "source": [
    "## Task 3: Non-linear parametric meta-model - Real case example\n",
    "\n",
    "Finally a real case of application of a non-linear parametric meta-model in earthquake engineering will be studied in this section. The main idea here is to propose a surrogate model$*$ used to replace a more expensive finite element model (FEM) of a masonry building.\n",
    "\n",
    "* Surrogate Model: An analytical function or numerical model used to provide a rapid approximation of a more expensive model: e.g. analytical model, finite-element model, among others).\n",
    "\n",
    "The masonry building analyzed in this work is illustrated in [Figure](https://github.com/FilLTP89/teaching/blob/master/imgs/masonry_building.png). The behavior of this structure is simulated on the basis of non-linear dynamic FE analysis, all details of the model are well described in Lopez-Caballero et al. 2011. Using the FEM model, the drifts (ED: matrix of $[1 \\times 168]$) of the building were calculated using 168 different earthquakes, that have been characterized by 13 different proxies each(IM: matrix of $[13\\times168]$). The databases are in file `mansonry_building_database.mat` [you can download here](https://github.com/FilLTP89/teaching/blob/master/datasets/mansonry_building_database.mat).\n",
    "\n"
   ]
  },
  {
   "cell_type": "code",
   "execution_count": 0,
   "metadata": {
    "colab": {},
    "colab_type": "code",
    "id": "03zUNXGvSmhg"
   },
   "outputs": [],
   "source": [
    "from scipy.io import loadmat\n",
    "link_to_mat_file=\"/content/mansonry_building_database.mat\"\n",
    "database=loadmat(link_to_mat_file)\n"
   ]
  },
  {
   "cell_type": "code",
   "execution_count": 134,
   "metadata": {
    "colab": {
     "base_uri": "https://localhost:8080/",
     "height": 52
    },
    "colab_type": "code",
    "id": "dcElrxvwbIu9",
    "outputId": "f629515e-c587-4551-96a1-9e05121842c8"
   },
   "outputs": [
    {
     "name": "stdout",
     "output_type": "stream",
     "text": [
      "(13, 168)\n",
      "(1, 168)\n"
     ]
    }
   ],
   "source": [
    "IM=database['IM']\n",
    "ED=database['ED']\n",
    "print(IM.shape)\n",
    "print(ED.shape)"
   ]
  },
  {
   "cell_type": "markdown",
   "metadata": {
    "colab_type": "text",
    "id": "7oqGa1DSbo0r"
   },
   "source": [
    "1. Plot each one of the input parameters (IM) with respect to the drift (ED). Visually analyze which proxy is more correlated to the output (hint: consider a log-log scale for your analysis).\n",
    "2. Calculate the correlation matrix of the input (IM) and output (ED) variables for the 168 earthquakes of the complete database. A matrix of $[14\\times14]$ (13 inputs+1 output) that describes the correlation between all parameters. Select 5 parameters based on the correlation matrix (hint: be careful with the redundant parameters. Use [`pandas.Dataframe.corr`](https://pandas.pydata.org/pandas-docs/stable/reference/api/pandas.DataFrame.corr.html)).\n",
    "3. Design a MLP (1-layer) using the 5 previously selected input parameters. Compare the prediction obtained with 1 up to 10 neurons. Information for the ANN: 80\\% Training, 20\\% Testing.\n",
    "4. Calculate the squared correlation coefficient ($Q^{2}$) and the root mean square error ($RMSE$) for the each of the 10 MLP predictions.\n",
    "\n",
    "$$ \n",
    "  Q^{2}(y_{i},y_i^{pred})=1-\\dfrac{\\sum_{n=1}^{N} (y_i^{pred}-y_{i})^{2}}{\\sum_{n=1}^{N} \t\t  (y_{i}-\\mu_{y})^{2}}\n",
    "$$\n",
    "$$\n",
    "\tRMSE(y_{i},y_i^{pred})=\\sqrt{\\sum_{n=1}^{N} \\frac{(y_i^{pred}-y_{i})^{2}}{N}}\n",
    "$$\n",
    "5. Propose your final model (how many neurons) based on the squared correlation coefficient ($Q^{2}$) and the root mean square error ($RMSE$). Justify your answer. \n",
    "6. Plot your final ANN architecture (hint: Deploy solution window of the nftool $\\rightarrow$ Graphics $\\rightarrow$ Neural Network Diagram).\n",
    "7. Plot the histogram of the 168 output real values (ED). Then create a synthetic input database, by creating a 10,000 random samples of each one of the 5 input parameters within their original range and used them to predict 10,000 outputs with your final MLP. Overlap the histogram of the synthetic database 10,000 predictions (new outputs). Compare the median and the standard deviation of the real and the synthetic database. \n",
    "8. Why do you think surrogate models are important and widely used for statistical engineering application purposes?\n",
    "\n"
   ]
  }
 ],
 "metadata": {
  "colab": {
   "authorship_tag": "ABX9TyPJU7Rz/GBpNGZirEuOfB9y",
   "collapsed_sections": [],
   "include_colab_link": true,
   "name": "MIFO_ML.ipynb",
   "provenance": [],
   "toc_visible": true
  },
  "kernelspec": {
   "display_name": "Python 3",
   "language": "python",
   "name": "python3"
  },
  "language_info": {
   "codemirror_mode": {
    "name": "ipython",
    "version": 3
   },
   "file_extension": ".py",
   "mimetype": "text/x-python",
   "name": "python",
   "nbconvert_exporter": "python",
   "pygments_lexer": "ipython3",
   "version": "3.7.5"
  }
 },
 "nbformat": 4,
 "nbformat_minor": 1
}
