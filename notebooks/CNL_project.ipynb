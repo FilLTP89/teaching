{
 "cells": [
  {
   "cell_type": "markdown",
   "metadata": {
    "colab_type": "text",
    "id": "B_4i89zFAjMi"
   },
   "source": [
    "# Hands on Project [CNL 2019-2020]\n",
    "## Master [MSROE-GEO2]\n",
    "\n",
    "In this project, you are asked to write the numerical integration of the Frederick Armstrong constitutive relationship [paper](https://github.com/FilLTP89/teaching/blob/master/slides/Frederick_Armstrong_2007.pdf).\n",
    "The numerical scheme adopted is explicit, according to [Sloan (1987)](https://github.com/FilLTP89/teaching/blob/master/slides/Sloan_1987.pdf).\n",
    "\n",
    "In the following cells, the main code layout is presented. \n",
    "You are asked to add code lines where the tag `[COMPLETE]` appears.\n",
    "\n",
    "Refer to class slideshows:\n",
    "  + [lecture 1](https://github.com/FilLTP89/teaching/blob/master/slides/FG_CNL_2019_lecture_1.pdf)\n",
    "  + [lecture 2](https://github.com/FilLTP89/teaching/blob/master/slides/FG_CNL_2019_lecture_2.pdf)"
   ]
  },
  {
   "cell_type": "markdown",
   "metadata": {
    "colab_type": "text",
    "id": "AnrkZ35ACcuj"
   },
   "source": [
    "First, lets setup the main `python` packages required."
   ]
  },
  {
   "cell_type": "code",
   "execution_count": 0,
   "metadata": {
    "colab": {},
    "colab_type": "code",
    "id": "dp4LiiqVtTyd"
   },
   "outputs": [],
   "source": [
    "import numpy as np\n",
    "import matplotlib.pyplot as plt\n",
    "from matplotlib import cm \n",
    "from mpl_toolkits.mplot3d import axes3d, Axes3D\n",
    "%matplotlib inline\n",
    "from IPython.display import Latex, display, Image, HTML "
   ]
  },
  {
   "cell_type": "markdown",
   "metadata": {
    "colab_type": "text",
    "id": "48YRboFuO0wQ"
   },
   "source": [
    "### 0. Definition of input material parameters"
   ]
  },
  {
   "cell_type": "code",
   "execution_count": 0,
   "metadata": {
    "colab": {},
    "colab_type": "code",
    "id": "c2xHHvQT0EBy"
   },
   "outputs": [],
   "source": [
    "# Shear wave velocity\n",
    "Vs = 300. #[m/s] \n",
    "# Unit volume mass\n",
    "Ds = 1800 #[kg/m3]\n",
    "# Poisson's ratio\n",
    "nu = 0.25 #[1]\n",
    "\n",
    "# Lamé parameters\n",
    "mu = Vs**2*Ds #[Pa]\n",
    "la = 2.*nu*mu/(1.-2.*nu) \n",
    "\n",
    "# Non-linear parameters\n",
    "gel   = 1.E-6 # shear strain elastic limit\n",
    "syld  = 1.E-6*mu # first yield limit\n",
    "Ckin  = 3.*mu \n",
    "kkin  = 1./(np.sqrt(3.)*(1.0E5-gel))\n",
    "Rinf  = 1.2*syld\n",
    "biso  = 10.\n",
    "\n",
    "# basic tensors\n",
    "A = np.diagflat([1.,1.,1.,2.,2.,2.]);\n",
    "A1 = np.diagflat([1.,1.,1.,0.5,0.5,0.5]);\n",
    "m = np.array([1.,1.,1.,0.,0.,0.])\n",
    "\n",
    "# tolerances\n",
    "FTOL = 1E-4\n",
    "LTOL = 1E-6"
   ]
  },
  {
   "cell_type": "markdown",
   "metadata": {
    "colab_type": "text",
    "id": "u6vu8m8MOrK7"
   },
   "source": [
    "### 1.1 Compute the stiffness matrix `Dijhk` within the `NL_elastic_matrix` function [COMPLETE].\n"
   ]
  },
  {
   "cell_type": "code",
   "execution_count": 0,
   "metadata": {
    "colab": {},
    "colab_type": "code",
    "id": "NnQ8tMwOvqER"
   },
   "outputs": [],
   "source": [
    "# compute the elastic matrices\n",
    "def NL_elastic_matrix(type='D',mu0=1.,la0=1.,E0=1.,nu0=1.):\n",
    "    DELijhk = np.zeros((6,6))\n",
    "    CELijhk = np.zeros((6,6))\n",
    "\n",
    "    if type.upper()=='D':\n",
    "        # Stiffness Matrix (6*6)\n",
    "        print(\"Stiffness matrix not defined\")\n",
    "        #[COMPLETE] Write the expression of the stiffness matrix\n",
    "        # use the numpy function tensordot https://docs.scipy.org/doc/numpy-1.10.0/reference/generated/numpy.tensordot.html\n",
    "        #DELijhk = ...\n",
    "        #return DELijhk\n",
    "    elif type.upper()=='C':\n",
    "        # Compliance Matrix (6*6)\n",
    "        CELijhk=-(nu0/E0)*np.tensordot(m,m,0)+((1+nu0)/E0)*A\n",
    "        print(np.tensordot(m,m,0))\n",
    "        return CELijhk\n",
    "    elif type.upper()=='B':\n",
    "        # Both matrices\n",
    "        # Stiffness Matrix (6*6)\n",
    "        # [COMPLETE] Write the expression of the stiffness matrix \n",
    "        # DELijhk=...\n",
    "        # Compliance Matrix (6*6)\n",
    "        CELijhk=-(nu0/E0)*np.tensordot(m,m,0)+((1+nu0)/E0)*A\n",
    "        return DELijhk,CELijhk\n",
    "\n",
    "#[COMPLETE]\n",
    "DELijhk,CELijhk = NL_elastic_matrix(type='B',mu0=...,la0=...,E0=...,nu0=...)"
   ]
  },
  {
   "cell_type": "markdown",
   "metadata": {
    "colab_type": "text",
    "id": "x08DHsOwO_Bz"
   },
   "source": [
    "### 1.2 Compute spherical and deviatoric part of a tensor with `STST_components` for a generic 2nd order symmetric tensor `WWij`"
   ]
  },
  {
   "cell_type": "code",
   "execution_count": 0,
   "metadata": {
    "colab": {},
    "colab_type": "code",
    "id": "UtgHTXm0FZZ5"
   },
   "outputs": [],
   "source": [
    "def STST_components(WWij,coeff):\n",
    "    # WWij = np.array((6,))\n",
    "    #\n",
    "    # _Spherical Part (coeff=3 for stresses, coeff=1 for strain)_\n",
    "    #\n",
    "    WP=WWij[0:2].sum()/coeff\n",
    "    #\n",
    "    # _Deviatoric Part_\n",
    "    #\n",
    "    WDij=WWij-(WWij[0:2].sum()/3.)*m\n",
    "    return WP, WDij"
   ]
  },
  {
   "cell_type": "markdown",
   "metadata": {
    "colab_type": "text",
    "id": "sbvDw-uHPJLQ"
   },
   "source": [
    "### 1.3 Compute the J2 invariant (in `STST_equivalent`) and the Von Mises failure criterion and its gradient within `mises_function` [COMPLETE]"
   ]
  },
  {
   "cell_type": "code",
   "execution_count": 0,
   "metadata": {
    "colab": {},
    "colab_type": "code",
    "id": "hCf4-qpxGAls"
   },
   "outputs": [],
   "source": [
    "def STST_equivalent(Sij,type):\n",
    "    WWeq = 0.\n",
    "\n",
    "    # Compute J2 norm for strain and stress    \n",
    "    if type.lower == 'strain':\n",
    "        WWeq=sqrt(2.*WWij.dot(WWij)/3.)\n",
    "    elif type.lower() == 'stress':\n",
    "        # [COMPLETE] compute the mises criterion for Wij\n",
    "        # Do not forget to count twice the values of tau_xy,tau_xz,tau_yz\n",
    "        # Use A matrix\n",
    "        # WWeq=...\n",
    "    return WWeq"
   ]
  },
  {
   "cell_type": "code",
   "execution_count": 0,
   "metadata": {
    "colab": {},
    "colab_type": "code",
    "id": "bK230ECz-bVl"
   },
   "outputs": [],
   "source": [
    "def mises_function(Sij,Xij,R,syld):\n",
    "    _,WWDij = STST_components(WWTij,3) # deviator\n",
    "    # [COMPLETE] compute the mises function\n",
    "    #f=... # mises function\n",
    "    # gradient of mises function wrt stress\n",
    "    M=1.5*A@(WWDij-Xij)/STST_equivalent(WWDij-Xij,'stress') \n",
    "    return f,M"
   ]
  },
  {
   "cell_type": "markdown",
   "metadata": {
    "colab_type": "text",
    "id": "nZZmKo4uPgcn"
   },
   "source": [
    "### 2.1 Radial return algorithm to find intersection between stress state and failure criterion (`NL_pegasus`) and return the plastic status for a given stress state ($f<0$, $f=0$ or $f>0$). The function provides the percentage $\\alpha$ of stress increment that is within the yield locus $f=0$.\n",
    "$$\\underline{\\underline{\\Delta\\sigma}}_n=\\alpha\\underline{\\underline{\\Delta\\sigma}}_n+(1-\\alpha)\\underline{\\underline{\\Delta\\sigma}}_n, \\quad \\alpha\\in\\left[0,1\\right]$$\n",
    "\n",
    "$$\\text{if} f\\left(\\underline{\\underline{\\sigma}}_n\\right)<0\\to f\\left(\\underline{\\underline{\\sigma}}_n+\\alpha\\underline{\\underline{\\Delta\\sigma}}_n\\right)=0 $$\n",
    "\n"
   ]
  },
  {
   "cell_type": "code",
   "execution_count": 0,
   "metadata": {
    "colab": {},
    "colab_type": "code",
    "id": "aUpzVnNpP0wY"
   },
   "outputs": [],
   "source": [
    "def NL_pegasus(Sij,dSij,Xij,R,syld):\n",
    "    alpha0  = 0\n",
    "    alpha1  = 1\n",
    "    stress0 = Sij+alpha0*dSij \n",
    "    stress1 = Sij+alpha1*dSij\n",
    "    \n",
    "    F0,gradF = mises_function(stress0,Xij,R,syld)\n",
    "    F1,gradF = mises_function(stress1,Xij,R,syld)\n",
    "    for i in range(10):\n",
    "        alpha  = alpha1-F1*(alpha1-alpha0)/(F1-F0)\n",
    "        stress = NL_update_stress(Sij,alpha*dSij)\n",
    "        FM,gradF = mises_function(stress,Xij,R,syld)\n",
    "        \n",
    "        if np.abs(FM)<=FTOL: # INTERSECTION FOUND\n",
    "            break\n",
    "        else:\n",
    "            if (FM*F0<0):\n",
    "                alpha1=alpha0\n",
    "                F1=F0\n",
    "            else:\n",
    "                F1 = F1*F0/(FM+F0);\n",
    "            F0=FM\n",
    "            alpha0=alpha\n",
    "    return alpha"
   ]
  },
  {
   "cell_type": "markdown",
   "metadata": {
    "colab_type": "text",
    "id": "jPPUFx8-Sl9V"
   },
   "source": [
    "### 2.2 Check Karush-Kuhn-Tucker conditions"
   ]
  },
  {
   "cell_type": "code",
   "execution_count": 0,
   "metadata": {
    "colab": {},
    "colab_type": "code",
    "id": "bKJKibxQI42J"
   },
   "outputs": [],
   "source": [
    "def NL_kkt(dSij,Sij0,Xij,R,syld):\n",
    "    alpha_epl = -1.\n",
    "    flagxit = False\n",
    "    # PREDICTION\n",
    "    stress0 = Sij+alpha0*dSij\n",
    "    stress1 = Sij+alpha1*dSij\n",
    "    \n",
    "    FS,gradFS = mises_function(stress0,Xij,R,syld)\n",
    "    FT,gradFT = mises_function(stress1,Xij,R,syld)\n",
    "    \n",
    "    # CHECK KKT CONDITIONS\n",
    "    \n",
    "    # purely elastic load\n",
    "    if FT<=FTOL:\n",
    "        alpha_epl = 1.\n",
    "        st_epl    = False\n",
    "        flagxit   = False\n",
    "\n",
    "    # elastic-plastic load\n",
    "    if FS<-FTOL and FT>FTOL:\n",
    "        st_epl = True\n",
    "        alpha_epl = NL_pegasus(stress0,dtrial,Xij,R,syld)\n",
    "        flagxit = True\n",
    "    \n",
    "    # plastic load    \n",
    "    if np.abs(FS)<=FTOL and FT>FTOL:\n",
    "        checkload = gradFS.dot(dSij)/np.norm(gradFS)/np.norm(dtrial)\n",
    "        \n",
    "        # load reversal\n",
    "        if checkload>=-LTOL:  # PLASTIC LOADING\n",
    "            alpha_epl = 0.\n",
    "        else: # PLASTIC UNLOADING\n",
    "            alpha_epl = NL_pegasus(stress0,dSij,Xij,R,syld)\n",
    "        st_epl = True\n",
    "        flagxit = True\n",
    "    \n",
    "    # KKT failed\n",
    "    if not flagxit:\n",
    "        print('ERROR IN FINDING INTERSECTION')\n",
    "        exit()\n",
    "    \n",
    "    # COMPUTE ON-LOCUS STRESS STATE\n",
    "    STij_on_F = stress0+alpha_epl*dSij\n",
    "    return st_epl, STij_on_F, alpha_epl"
   ]
  },
  {
   "cell_type": "markdown",
   "metadata": {
    "colab_type": "text",
    "id": "YjMLMZ5eYzJ9"
   },
   "source": [
    "### 3.1 Compute hardening modulus $H$ [COMPLETE]"
   ]
  },
  {
   "cell_type": "code",
   "execution_count": 0,
   "metadata": {
    "colab": {},
    "colab_type": "code",
    "id": "iAkHIkkDY_pj"
   },
   "outputs": [],
   "source": [
    "def NL_compute_H(Sij,Xij,R,Ckin,kkin,Rinf,biso):\n",
    "    # COMPUTE HARDENING MODULUS\n",
    "    F,gradF = mises_function(Sij,Xij,R,syld)\n",
    "    # isotropic hardening\n",
    "    # [COMPLETE]\n",
    "    # h_iso = ...\n",
    "    \n",
    "    # kinematic hardening \n",
    "    # h_kin = ...\n",
    "    \n",
    "    return h_iso+h_kin;"
   ]
  },
  {
   "cell_type": "markdown",
   "metadata": {
    "colab_type": "text",
    "id": "2y7Ra9Gjad0A"
   },
   "source": [
    "### 3.2 Compute plastic multiplier increment $\\delta\\lambda_n$"
   ]
  },
  {
   "cell_type": "code",
   "execution_count": 0,
   "metadata": {
    "colab": {},
    "colab_type": "code",
    "id": "vufMUBcLYyn2"
   },
   "outputs": [],
   "source": [
    " def NL_compute_plm(dETij,Sij,Xij,R,syld,Ckin,kkin,Rinf,biso,\n",
    "                DELijhk):\n",
    "    \n",
    "    _,M   = mises_function(Sij,Xij,R,syld)  \n",
    "    h = NL_compute_H(Sij,Xij,R,Ckin,kkin,Rinf,biso)\n",
    "    # PLASTIC MULTIPLIER\n",
    "    # [COMPLETE] \n",
    "    # dplm = ...\n",
    "    return dplm"
   ]
  },
  {
   "cell_type": "markdown",
   "metadata": {
    "colab_type": "text",
    "id": "QYvlvgsWX2VA"
   },
   "source": [
    "### 3.3 Compute hardening increments $\\underline{\\underline{\\Delta X}}$ and $\\Delta R$ [COMPLETE]"
   ]
  },
  {
   "cell_type": "code",
   "execution_count": 0,
   "metadata": {
    "colab": {},
    "colab_type": "code",
    "id": "ngfhDgFQX5M2"
   },
   "outputs": [],
   "source": [
    "def NL_compute_hardening_increment(dplm,ij,Xij,R,syld,Ckin,kkin,Rinf,biso):\n",
    "    # ISOTROPIC HARDENING\n",
    "    #[COMPLETE]\n",
    "    # dR = ...\n",
    "    \n",
    "    # KINEMATIC HARDENING\n",
    "    _,M = mises_function(Sij,Xij,R,syld)\n",
    "    # [COMPLETE]\n",
    "    # dXij = ...\n",
    "\n",
    "    return dXij,dR"
   ]
  },
  {
   "cell_type": "markdown",
   "metadata": {
    "colab_type": "text",
    "id": "ruZLNombUqnZ"
   },
   "source": [
    "### 4.0 Set up main time-marching scheme"
   ]
  },
  {
   "cell_type": "code",
   "execution_count": 18,
   "metadata": {
    "colab": {
     "base_uri": "https://localhost:8080/",
     "height": 281
    },
    "colab_type": "code",
    "id": "JxqaRhA3z9tp",
    "outputId": "c534ab40-5391-4bc1-95fb-28b02830e9c8"
   },
   "outputs": [
    {
     "data": {
      "image/png": "[encoded data removed]",
      "text/plain": [
       "<Figure size 432x288 with 1 Axes>"
      ]
     },
     "metadata": {
      "tags": []
     },
     "output_type": "display_data"
    }
   ],
   "source": [
    "# total strain loading (sinusoidal)\n",
    "nloops = 10.\n",
    "dtheta = np.pi/10.\n",
    "theta = np.arange(0.,nloops*2.*np.pi+dtheta,dtheta)\n",
    "gxy_max = 1.E-3 # maximum gamma_xy amplitude\n",
    "ETij = np.zeros((theta.size,6)) # eps_xx,eps_yy,eps_zz,gamma_xy,gamma_xz,gamma_yz\n",
    "ETij[:,3] = gxy_max*np.sin(theta) #gamma_xy\n",
    "plt.figure()\n",
    "plt.plot(theta,ETij[:,3],label='$\\gamma_{xy}$')\n",
    "plt.legend()\n",
    "plt.xlabel('$\\Theta$')\n",
    "plt.ylabel('$\\epsilon$')\n",
    "\n",
    "\n",
    "EELij = np.zeros((theta.size,6)) # elastic eps_xx,eps_yy,eps_zz,gamma_xy,gamma_xz,gamma_yz\n",
    "EPLij = np.zeros((theta.size,6)) # plastic eps_xx,eps_yy,eps_zz,gamma_xy,gamma_xz,gamma_yz\n",
    "STij  = np.zeros((theta.size,6)) # stress sig_xx,sig_yy,sig_zz,tau_xy,tau_xz,tau_yz\n",
    "Xij   = np.zeros((theta.size,6)) # backstress sig_xx,sig_yy,sig_zz,tau_xy,tau_xz,tau_yz\n",
    "# total strain state at time tN/tN1\n",
    "ETijN    = np.zeros((6,))\n",
    "ETijN1   = ETij[0,:]\n",
    "# elastic strain state at time tN/tN1\n",
    "EELijN  = np.zeros((6,))\n",
    "EELijN1 = np.zeros((6,))\n",
    "# plastic strain state at time tN/tN1\n",
    "EPLijN  = np.zeros((6,))\n",
    "EPLijN1 = np.zeros((6,))\n",
    "# stress state at time tN/tN1\n",
    "STijN    = np.zeros((6,))\n",
    "STijN1   = np.zeros((6,))\n",
    "# back stress state at time tN/tN1\n",
    "XijN     = np.zeros((6,))\n",
    "XijN1    = np.zeros((6,))\n",
    "# isotropic radius at time tN/tN1\n",
    "RN       = 0.\n",
    "RN1      = 0.\n",
    "# plastic multiplier at time tN/tN1\n",
    "LambdaN  = 0.\n",
    "LambdaN1 = 0.\n",
    "# plastic status at time tN/tN1\n",
    "st_epl    = False\n",
    "# sub iterations to go to convergence\n",
    "nit = 10"
   ]
  },
  {
   "cell_type": "markdown",
   "metadata": {
    "colab_type": "text",
    "id": "GqN42Wb4IKvg"
   },
   "source": [
    "### 4.2 Solve the elasto-plastic problem step-by-step [COMPLETE]\n",
    "Use the function above!"
   ]
  },
  {
   "cell_type": "code",
   "execution_count": 0,
   "metadata": {
    "colab": {},
    "colab_type": "code",
    "id": "2GB3rnH7vJlZ"
   },
   "outputs": [],
   "source": [
    "## SOLVING ELASTIC-PLASTIC PROBLEM\n",
    "for tN in range(1,theta.size):\n",
    "    # STRAIN UPDATE (tN)\n",
    "    ETijN  = ETijN1\n",
    "    EELijN = EELijN1\n",
    "    EPLijN = EPLijN1\n",
    "    LambdaN = LambdaN1\n",
    "    # STRESS UPDATE (tN)\n",
    "    STijN   = STijN1\n",
    "    # HARDENING VARIABLES UPDATE (tN)\n",
    "    XijN    = XijN1\n",
    "    RN      = RN1\n",
    "    # update stress state\n",
    "    STij[tN-1,:] = STijN\n",
    "    # update elastic strain state\n",
    "    EELij[tN-1,:] = EELijN\n",
    "    # update plastic strain state\n",
    "    EPLij[tN-1,:] = EPLijN\n",
    "    # update hardening parameters\n",
    "    Xij[tN-1,:] = XijN\n",
    "    #\n",
    "    # _total strain increment (from loading path)_\n",
    "    #\n",
    "    dETijN = ETij[tN,:]-ETij[tN-1,:]\n",
    "    dEPLijN   = np.zeros((6,)) # plastic strain increment at tN\n",
    "    #\n",
    "    # _trial increment (purely elastic)_\n",
    "    #\n",
    "    dSTijNt = DELijhk@dETijN \n",
    "    #\n",
    "    # _plasticity check_\n",
    "    #\n",
    "    st_epl,STijN_on_F,alphaNL = NL_kkt(dSTijNt,STijN,XijN,RN,syld)\n",
    "    #\n",
    "    # _plastic correction_\n",
    "    #\n",
    "    if st_epl:\n",
    "        # residual strain increment for elasto-plastic loading\n",
    "        dETalphaN = (1.-alphaNL)*dETijN\n",
    "        Sij1 = STijN\n",
    "        Xij1 = XijN\n",
    "        R1   = RN\n",
    "        plm1 = 0\n",
    "        for i in range(nit): # sub-iteration\n",
    "            #\n",
    "            # _prediction_\n",
    "            #\n",
    "            Sij0 = Sij1 \n",
    "            Xij0 = Xij1 \n",
    "            R0   = R1\n",
    "            plm0 = plm1\n",
    "            _,M0 = mises_function(Sij0,Xij0,R0,syld)\n",
    "        \n",
    "            # COMPUTE PLASTIC MULTIPLIER\n",
    "            # [COMPLETE]\n",
    "            dplm = NL_compute_plm(dETalphaN,Sij0,Xij0,R0,syld,\n",
    "                              Ckin,kkin,Rinf,biso,DELijhk)\n",
    "            dEPLijN = dEPLijN+dplm*M0\n",
    "            plm1 = plm0+dplm\n",
    "        \n",
    "            # ELASTIC-PLASTIC CORRECTION\n",
    "            #\n",
    "            # increments of hardening parameters\n",
    "            #\n",
    "            # [COMPLETE]\n",
    "            dXij0,dR0 = NL_compute_hardening(dplm,Sij0,R0,Xij0,\n",
    "                                             syld,Ckin,kkin,plm0,psi,omega,Rinf,biso)\n",
    "            #\n",
    "            # update\n",
    "            #\n",
    "            Xij1 = Xij0+dXij0\n",
    "            R1   = R0+dR0\n",
    "            Sij1 = Sij0+DELijhk@(dETalphaN-dplm*M0)\n",
    "            F_check,M0 = mises_function(Sij1,Xij1,R1,syld)\n",
    "        \n",
    "            # DRIFT CORRECTION\n",
    "            if np.abs(F_check)>FTOL:\n",
    "                F,_=mises_function(Sij1,Xij1,R1,syld);\n",
    "                h = NL_compute_H(Sij,Xij1,R1,Ckin,kkin,Rinf,biso)\n",
    "                dalpha=-F/(h+M0.dot(DELijhk@M0))\n",
    "                dSij = dalpha*DELijhk@M0\n",
    "                dXij,dR = NL_compute_hardening(dalpha,Sij1,R1,Xij1)\n",
    "                Sij1 = Sij1+dSij\n",
    "                Xij1=Xij1+dXij\n",
    "                R1=R1+dR\n",
    "                dEPLijN = dEPLijN-dalpha*M0\n",
    "    else:\n",
    "        STijN1 = STijN_on_F\n",
    "        XijN1  = XijN\n",
    "        RN1    = RN\n",
    "        dEPLijN= np.zeros((6,))\n",
    "        #\n",
    "        # _update final state_\n",
    "        #\n",
    "        ETijN1   = ETijN   + dETijN\n",
    "        ETELijN1 = ETELijN + (STijN1-STijN)*CELijhk\n",
    "        ETPLijN1 = ETPLijN + dETijPL\n"
   ]
  },
  {
   "cell_type": "markdown",
   "metadata": {
    "colab_type": "text",
    "id": "qywDUyWzME7B"
   },
   "source": [
    "### 5. Plot the strain-stress relationship (the xy component - only non-zero component)"
   ]
  }
 ],
 "metadata": {
  "colab": {
   "collapsed_sections": [],
   "name": "CNL-project.ipynb",
   "provenance": []
  },
  "kernelspec": {
   "display_name": "Python 3",
   "language": "python",
   "name": "python3"
  },
  "language_info": {
   "codemirror_mode": {
    "name": "ipython",
    "version": 3
   },
   "file_extension": ".py",
   "mimetype": "text/x-python",
   "name": "python",
   "nbconvert_exporter": "python",
   "pygments_lexer": "ipython3",
   "version": "3.7.5"
  }
 },
 "nbformat": 4,
 "nbformat_minor": 1
}
