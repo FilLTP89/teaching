{
  "nbformat": 4,
  "nbformat_minor": 0,
  "metadata": {
    "colab": {
      "name": "Exercise-1.ipynb",
      "provenance": [],
      "collapsed_sections": [],
      "include_colab_link": true
    },
    "kernelspec": {
      "name": "python3",
      "display_name": "Python 3"
    }
  },
  "cells": [
    {
      "cell_type": "markdown",
      "metadata": {
        "id": "view-in-github",
        "colab_type": "text"
      },
      "source": [
        "<a href=\"https://colab.research.google.com/github/FilLTP89/teaching/blob/master/Exercise_1.ipynb\" target=\"_parent\"><img src=\"https://colab.research.google.com/assets/colab-badge.svg\" alt=\"Open In Colab\"/></a>"
      ]
    },
    {
      "cell_type": "markdown",
      "metadata": {
        "id": "Wza3M93qQ6gP",
        "colab_type": "text"
      },
      "source": [
        "# Identification of non-linear soil properties under different loading conditions \n",
        "\n",
        "In this practical session, you will learn how:\n",
        "+ to identify the non-linear behaviour of a soil sample, given different loading conditions\n",
        "+ soil behaviour is affected by each identified parameter\n",
        "+ soil behaviour evolves from natural to critical states\n",
        "\n",
        "This notebook will guide you through the different learning tasks. \n",
        "\n",
        "**You are required to complete the missing parts, tagged with the #[COMPLETE] tag.**"
      ]
    },
    {
      "cell_type": "markdown",
      "metadata": {
        "id": "akSTYMSAlMz0",
        "colab_type": "text"
      },
      "source": [
        "## Required modules \n",
        "(see *python-hands-on.ipynb* for details on `numpy` and `matplotlib` tutorials)"
      ]
    },
    {
      "cell_type": "code",
      "metadata": {
        "id": "i9LQuL6iQ6gR",
        "colab_type": "code",
        "colab": {}
      },
      "source": [
        "import numpy as np"
      ],
      "execution_count": 0,
      "outputs": []
    },
    {
      "cell_type": "code",
      "metadata": {
        "id": "GaggBY1lQ6gX",
        "colab_type": "code",
        "colab": {}
      },
      "source": [
        "import matplotlib.pyplot as plt\n",
        "from matplotlib import cm \n",
        "from mpl_toolkits.mplot3d import axes3d, Axes3D\n",
        "%matplotlib inline"
      ],
      "execution_count": 0,
      "outputs": []
    },
    {
      "cell_type": "code",
      "metadata": {
        "id": "T1Y_NPI3hGob",
        "colab_type": "code",
        "colab": {}
      },
      "source": [
        "from IPython.display import Latex, display\n"
      ],
      "execution_count": 0,
      "outputs": []
    },
    {
      "cell_type": "markdown",
      "metadata": {
        "id": "VKPCsB9nQ6gc",
        "colab_type": "text"
      },
      "source": [
        "### Disambiguation \n",
        "The rates of a _state variable_ $\\square$ are either represented by $d\\square$, $\\delta\\square$ or with a dot $\\dot{\\square}$. \n",
        "\n",
        "_Effective stress states_ are noted with an apostrophe ($\\square'$).\n",
        "\n",
        "Apices $el$ and $ir$ stand for _elastic_ and _irreversible_.\n",
        "\n",
        "Pedex $\\square_v$ indicate volumetric component.\n",
        "\n",
        "wrt = with respect to"
      ]
    },
    {
      "cell_type": "markdown",
      "metadata": {
        "id": "JGanEOGnQ6gd",
        "colab_type": "text"
      },
      "source": [
        "## Set-up\n",
        "Given the results of a _drained isotropic compression test_ on a soil sample, the following _elasto-plastic_ model is chosen to represent soil behaviour at best:\n",
        "\n",
        "$$\\large\n",
        "f(p',\\varepsilon_v^{ir}) = p'-d\\cdot p_c(\\varepsilon_v^{ir}) \\cdot \\alpha (\\varepsilon_v^{ir})\n",
        "$$\n",
        "\n",
        "where $p'$ represents the _effective pressure_ (_idrostatic stress_), $d$ is a generic parameter,  $\\alpha$ and $p_c$ are the _hardening_ variables, depending on the evolution of the _irreversible volumetric strain_ $\\varepsilon_v^{ir}$:\n",
        "\n",
        "$$\\large\n",
        "\\alpha(\\varepsilon_v^{ir})=\\alpha_0+\\frac{\\varepsilon_v^{ir}}{a+\\varepsilon_v^{ir}}\n",
        "$$\n",
        "\n",
        "$$\\large\n",
        "p_c(\\varepsilon_v^{ir})=p_{c0}\\cdot \\exp{\\beta\\cdot\\varepsilon_v^{ir}}\n",
        "$$\n",
        "\n",
        "$p_{c0}$ represents the _critic pressure_ at the initial state. $\\alpha_0$, $a$ and $\\beta$ are two generic model's parameters. \n",
        "\n",
        "The _elastic_ behaviour of the soil sample is defined by the following _isotropic linear_ incremental relationship:\n",
        "\n",
        "$$\\large\n",
        "dp' = K\\cdot d\\varepsilon_v^{el}\n",
        "$$\n",
        "with $K$ representing the _bulk modulus_ (_isotropic elastic stiffness_) and $d\\varepsilon_v^{el}$"
      ]
    },
    {
      "cell_type": "markdown",
      "metadata": {
        "id": "C6tEMWDYQ6ge",
        "colab_type": "text"
      },
      "source": [
        "## Task 1\n",
        "The purpose of this task is to study the influence of each parameter on the model presented above. \n",
        "To this end, for each material property, two possible values are provided, so to assess the influence of the inherent parameter and compare the final outcomes.\n",
        "\n",
        "Given the sets of material properties listed below:\n",
        "+ plot the variation of $\\alpha$ wrt $\\varepsilon_v^{ir}$\n",
        "+ plot the variation of $p_c$ wrt $\\varepsilon_v^{ir}$\n",
        "+ plot the variation of the _void index_ $e$ (how is it related to the volumetric strain?) wrt to $p'$, for an _isotropic consolidation test_ from $p_0$ to $p_{end}$\n",
        "\n",
        "Parameters:\n",
        "$$\\large\n",
        "\\alpha_0=[0.1,0.2];\\quad\n",
        "a = [0.01,0.1];\\quad\n",
        "d = [2,10];\\quad\n",
        "\\beta = 32;\\quad\n",
        "K = 320 MPa;\\quad\n",
        "p_0=30 kPa;\\quad\n",
        "e_0 = 0.7;\\quad\n",
        "p_{c0}= [220,420] kPa;\\quad\n",
        "p_{end} = 30 MPa\n",
        "$$\n",
        "\n",
        "with $e_0$ representing the _initial void ratio_."
      ]
    },
    {
      "cell_type": "code",
      "metadata": {
        "id": "XpFkbf-9Q6gf",
        "colab_type": "code",
        "outputId": "a447d10a-2bac-4dfe-becb-ae00ec09ce5c",
        "colab": {
          "base_uri": "https://localhost:8080/",
          "height": 509
        }
      },
      "source": [
        "# Data\n",
        "d=2\n",
        "p_C0=220\n",
        "beta=32\n",
        "alpha_0=0.1\n",
        "a=0.01\n",
        "K=320000.\n",
        "e_0=0.7\n",
        "p_0=30. #kPa\n",
        "p_end=30000. #kPa\n",
        "\n",
        "# Compute yielding limit\n",
        "p_lim=d*p_C0*alpha_0\n",
        "print('{:>.1f} kPa'.format(p_lim))\n",
        "\n",
        "# Draw evolution e=f(p') for elasticity\n",
        "p_el=np.array([p_0,p_lim])\n",
        "eps_V_el=(1/K)*p_el\n",
        "e_el=e_0-(1+e_0)*eps_V_el\n",
        "\n",
        "# Plot \n",
        "fig, ((ax1, ax2, ax3)) = plt.subplots(1,3,figsize=(15, 7))\n",
        "\n",
        "ax1.plot(p_el,e_el,'b')\n",
        "ax1.set_xlabel('mean stress p (kPa)',fontsize=15,fontweight='bold')\n",
        "ax1.set_ylabel('e [1]',fontsize=15,fontweight='bold')\n",
        "\n",
        "\n",
        "ax2.semilogx(p_el,e_el,'b')\n",
        "ax2.set_xlabel('log mean stress p (kPa)',fontsize=15,fontweight='bold')\n",
        "ax2.set_ylabel('e [1]',fontsize=15,fontweight='bold')\n",
        "\n",
        "ax3.semilogy(eps_V_el,p_el,'b')\n",
        "ax3.set_xlabel('volumic strain [1]',fontsize=15,fontweight='bold')\n",
        "ax3.set_ylabel('log mean stress p (kPa)',fontsize=15,fontweight='bold')\n",
        "\n",
        "\n",
        "## Elasto-plastic evolution\n",
        "inr = 1.1 # Geometric increment ratio\n",
        "m = int(np.log((p_end/p_lim)*(inr-1.)+1.)/np.log(inr))+1\n",
        "p_ep=p_lim*np.ones((m,))\n",
        "for i in range(1,m-1):\n",
        "    p_ep[i]=p_ep[i-1]+p_lim*inr**i\n",
        "p_ep[-1]=p_end\n",
        "\n",
        "# initialization\n",
        "dp = np.zeros((p_ep.size,))\n",
        "H = np.zeros((p_ep.size,))\n",
        "alpha = np.zeros((p_ep.size,))\n",
        "p_C = np.zeros((p_ep.size,))\n",
        "epsVp = np.zeros((p_ep.size,))\n",
        "depsV = np.zeros((p_ep.size,))\n",
        "epsV = np.zeros((p_ep.size,))\n",
        "epsV[0] = eps_V_el[-1]\n",
        "e_ep = np.zeros((p_ep.size,))\n",
        "e_ep[0] = e_el[-1]\n",
        "\n",
        "\n",
        "for i in range(p_ep.size-1):\n",
        "    dp[i]=p_ep[i+1]-p_ep[i]\n",
        "    alpha[i]=alpha_0+(epsVp[i]/(a+epsVp[i]))\n",
        "    p_C[i]=p_C0*np.exp(beta*epsVp[i])\n",
        "    H[i]=-d*p_C[i]*a/((a+epsVp[i])**2)-d*alpha[i]*beta*p_C[i]\n",
        "    depsV[i]=dp[i]*((1/K)-(1/H[i]))\n",
        "    epsV[i+1]=epsV[i]+depsV[i]\n",
        "    epsVp[i+1]=epsVp[i]+(depsV[i]-(1/K)*dp[i])\n",
        "    e_ep[i+1]=e_0-epsV[i+1]*(1+e_0)\n",
        "    \n",
        "ax1.plot(p_ep,e_ep,'r')\n",
        "ax2.semilogx(p_ep,e_ep,'r')\n",
        "ax3.semilogy(epsV,p_ep,'r')"
      ],
      "execution_count": 6,
      "outputs": [
        {
          "output_type": "stream",
          "text": [
            "44.0 kPa\n"
          ],
          "name": "stdout"
        },
        {
          "output_type": "execute_result",
          "data": {
            "text/plain": [
              "[<matplotlib.lines.Line2D at 0x7fb334f32c18>]"
            ]
          },
          "metadata": {
            "tags": []
          },
          "execution_count": 6
        },
        {
          "output_type": "display_data",
          "data": {
            "image/png": "[encoded data removed]",
            "text/plain": [
              "<Figure size 1080x504 with 3 Axes>"
            ]
          },
          "metadata": {
            "tags": []
          }
        }
      ]
    }
  ]
}