{
  "nbformat": 4,
  "nbformat_minor": 0,
  "metadata": {
    "colab": {
      "name": "Exercise-1.ipynb",
      "provenance": [],
      "collapsed_sections": []
    },
    "kernelspec": {
      "name": "python3",
      "display_name": "Python 3"
    }
  },
  "cells": [
    {
      "cell_type": "markdown",
      "metadata": {
        "id": "Wza3M93qQ6gP",
        "colab_type": "text"
      },
      "source": [
        "# Identification of non-linear soil properties under different loading conditions \n",
        "\n",
        "In this practical session, you will learn how:\n",
        "+ to identify the non-linear behaviour of a soil sample, given different loading conditions\n",
        "+ soil behaviour is affected by each identified parameter\n",
        "+ soil behaviour evolves from natural to critical states\n",
        "\n",
        "This notebook will guide you through the different learning tasks. "
      ]
    },
    {
      "cell_type": "markdown",
      "metadata": {
        "id": "akSTYMSAlMz0",
        "colab_type": "text"
      },
      "source": [
        "## Required modules \n",
        "(see *python-hands-on.ipynb* for details on `numpy` and `matplotlib` tutorials)"
      ]
    },
    {
      "cell_type": "code",
      "metadata": {
        "id": "i9LQuL6iQ6gR",
        "colab_type": "code",
        "colab": {}
      },
      "source": [
        "import numpy as np"
      ],
      "execution_count": 0,
      "outputs": []
    },
    {
      "cell_type": "code",
      "metadata": {
        "id": "GaggBY1lQ6gX",
        "colab_type": "code",
        "colab": {}
      },
      "source": [
        "import matplotlib.pyplot as plt\n",
        "from matplotlib import cm \n",
        "from mpl_toolkits.mplot3d import axes3d, Axes3D\n",
        "%matplotlib inline"
      ],
      "execution_count": 0,
      "outputs": []
    },
    {
      "cell_type": "code",
      "metadata": {
        "id": "T1Y_NPI3hGob",
        "colab_type": "code",
        "colab": {}
      },
      "source": [
        "from IPython.display import Latex, display, Image, HTML \n"
      ],
      "execution_count": 0,
      "outputs": []
    },
    {
      "cell_type": "markdown",
      "metadata": {
        "id": "VKPCsB9nQ6gc",
        "colab_type": "text"
      },
      "source": [
        "### Disambiguation \n",
        "The rates of a _**state variable**_ $\\square$ are either represented by $d\\square$, $\\delta\\square$ or with a dot $\\dot{\\square}$. \n",
        "\n",
        "_**Effective stress states**_ are noted with an apostrophe ($\\square'$).\n",
        "\n",
        "Apices $el$ and $ir$ stand for _**elastic**_ and _**irreversible**_.\n",
        "\n",
        "Pedex $\\square_v$ indicate volumetric component.\n",
        "\n",
        "wrt = with respect to"
      ]
    },
    {
      "cell_type": "markdown",
      "metadata": {
        "id": "TO0vlYLRsRya",
        "colab_type": "text"
      },
      "source": [
        "[See Figure!](https://github.com/FilLTP89/teaching/blob/master/imgs/example-iso.png)"
      ]
    },
    {
      "cell_type": "markdown",
      "metadata": {
        "colab_type": "text",
        "id": "cV8OdRhuCKC6"
      },
      "source": [
        "## Set-up\n",
        "In this exercise, the results of a _**drained isotropic compression test**_ on a soil sample are analyzed.\n",
        "\n",
        "\n",
        "\n",
        "The following _**elasto-plastic**_ model is chosen to represent soil behaviour at best:\n",
        "\n",
        " \n",
        "\n",
        "- the _**elastic**_ behaviour of the soil sample is defined by the following _**isotropic linear**_ incremental relationship:\n",
        "\n",
        "$$\\large\n",
        "dp' = K_{el}\\cdot d\\varepsilon_v^{el}\n",
        "$$\n",
        "\n",
        ">  with $K_{el}$ representing the _**elastic bulk modulus**_ (_**isotropic elastic stiffness**_) and $d\\varepsilon_v^{el}$\n",
        "\n",
        "\n",
        "- the failure criterion is defined by the function $f$ defined as follows:\n",
        "\n",
        "$$\\large\n",
        "f(p',\\varepsilon_v^{ir}) = p'-d\\cdot p_c(\\varepsilon_v^{ir}) \\cdot \\alpha (\\varepsilon_v^{ir})\n",
        "$$\n",
        "\n",
        ">  where $p'$ represents the _**effective pressure**_ (_**idrostatic stress**_), $d$ is a generic parameter,  $\\alpha$ and $p_c$ are the _**hardening**_ variables, depending on the evolution of the _**irreversible volumetric strain**_ $\\varepsilon_v^{ir}$:\n",
        "\n",
        "$$\\large\n",
        "\\alpha(\\varepsilon_v^{ir})=\\alpha_0+\\frac{\\varepsilon_v^{ir}}{a+\\varepsilon_v^{ir}}\n",
        "$$\n",
        "\n",
        "$$\\large\n",
        "p_c(\\varepsilon_v^{ir})=p_{c0}\\cdot \\exp{\\beta\\cdot\\varepsilon_v^{ir}}\n",
        "$$\n",
        "\n",
        ">  $p_{c0}$ represents the _**critic pressure**_ at the initial state. $\\alpha_0$, $a$ and $\\beta$ are two generic model's parameters. \n"
      ]
    },
    {
      "cell_type": "markdown",
      "metadata": {
        "id": "vraGbRZf1Suv",
        "colab_type": "text"
      },
      "source": [
        "## Task 1\n",
        "Compute the hardening modulus $H$. \n",
        "To do so, please follow the steps : \n",
        "  - compute the gradient $$\\frac{\\partial f}{\\partial p'}$$\n",
        "  - compute the material derivative of the yield function $$\\dot{f}$$\n",
        "  (use the chain rule!)\n",
        "  - describe the _**associated**_ _**flow rule**_, with $\\lambda$ _**plastic multiplier**_:\n",
        "  - compute the _**elasto-plastic compressibility (isotropic elasto-plastic bulk modulus)**_ $K_{ep}$ that satisfies the relationship:\n",
        "  $$dp'=K_{ep}d\\varepsilon_v^{ir}$$"
      ]
    },
    {
      "cell_type": "markdown",
      "metadata": {
        "id": "C6tEMWDYQ6ge",
        "colab_type": "text"
      },
      "source": [
        "## Task 2\n",
        "The purpose of this task is to study the influence of each parameter on the model presented above. \n",
        "To this end, for each material property, two possible values are provided, so to assess the influence of the inherent parameter and compare the final outcomes.\n",
        "\n",
        "Given the sets of material properties listed below:\n",
        "+ plot the variation of $\\alpha$ wrt $\\varepsilon_v^{ir}$\n",
        "+ plot the variation of $p_c$ wrt $\\varepsilon_v^{ir}$\n",
        "+ plot the variation of the _void index_ $e$ (how is it related to the volumetric strain?) wrt to $p'$, for an _isotropic consolidation test_ from $p_0$ to $p_{end}$\n",
        "\n",
        "Parameters:\n",
        "$$\\large\n",
        "\\alpha_0=[0.1,0.2];\\quad\n",
        "a = [0.01,0.1];\\quad\n",
        "d = [2,10];\\quad\n",
        "\\beta = 32;\\quad\n",
        "K = 320 MPa;\\quad\n",
        "p_0=30 kPa;\\quad\n",
        "e_0 = 0.7;\\quad\n",
        "p_{c0}= [220,420] kPa;\\quad\n",
        "p_{end} = 30 MPa\n",
        "$$\n",
        "\n",
        "with $e_0$ representing the _initial void ratio_.\n",
        "\n",
        "**You are required to complete the missing parts, tagged with the #[COMPLETE] tag.**"
      ]
    },
    {
      "cell_type": "code",
      "metadata": {
        "id": "XpFkbf-9Q6gf",
        "colab_type": "code",
        "colab": {}
      },
      "source": [
        "# Data\n",
        "d=2\n",
        "p_C0=220 # [kPa] critic pressure at initial state\n",
        "beta=32\n",
        "alpha_0=0.1\n",
        "a=0.01\n",
        "K=320000. # [kPa] bulk modulus\n",
        "e_0=0.7 # initial void index\n",
        "p_0=30. # [kPa] initial effective pressure\n",
        "p_end=30000. #kPa\n",
        "\n",
        "# Compute yielding limit\n",
        "p_lim=d*p_C0*alpha_0\n",
        "print('{:>.1f} kPa'.format(p_lim))\n",
        "\n",
        "# Draw evolution e=f(p') for elasticity\n",
        "p_el=np.array([p_0,p_lim])\n",
        "eps_V_el=(1/K)*p_el\n",
        "e_el=e_0-(1+e_0)*eps_V_el\n",
        "\n",
        "# [COMPLETE] Plot the elastic relationship between p_el and e_el and eps_V_el and p_el\n",
        "\n",
        "## Elasto-plastic evolution\n",
        "inr = 1.1 # Geometric increment ratio\n",
        "# [COMPLETE] write p_ep vector as geometrical progression with common ratio inr\n",
        "# See https://en.wikipedia.org/wiki/Geometric_progression\n",
        "\n",
        "\n",
        "\n",
        "# initialization\n",
        "# effective pressure increment\n",
        "dp = np.zeros((p_ep.size,))\n",
        "# hardening modulus\n",
        "H = np.zeros((p_ep.size,)) \n",
        "# alpha parameter (see model)\n",
        "alpha = np.zeros((p_ep.size,))\n",
        "# critic pressure\n",
        "p_C = np.zeros((p_ep.size,))\n",
        "# irreversible volumetric strain\n",
        "epsVir = np.zeros((p_ep.size,))\n",
        "# irreversible volumetric \n",
        "depsV = np.zeros((p_ep.size,))\n",
        "# total volumetric strain\n",
        "epsV = np.zeros((p_ep.size,))\n",
        "# initialize to elastic volumetric strain\n",
        "epsV[0] = eps_V_el[-1]\n",
        "# void index\n",
        "e_ep = np.zeros((p_ep.size,))\n",
        "e_ep[0] = e_el[-1]\n",
        "\n",
        "# [COMPLETE]\n",
        "# 1. compute the evolution of alpha\n",
        "# 2. compute the evolution of p_C\n",
        "# 3. compute the evolution of the hardening modulus H\n",
        "# 4. compute the evolution of elasto-plastic isotropic bulk modulus\n",
        "for i in range(p_ep.size-1):\n",
        "\n",
        "    \n",
        "ax1.plot(p_ep,e_ep,'r')\n",
        "ax2.semilogx(p_ep,e_ep,'r')\n",
        "ax3.semilogy(epsV,p_ep,'r')"
      ],
      "execution_count": 0,
      "outputs": []
    }
  ]
}